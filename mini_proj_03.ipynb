{
 "cells": [
  {
   "cell_type": "markdown",
   "id": "6770d225",
   "metadata": {},
   "source": [
    "# mini_proj_03_20171541_차영민"
   ]
  },
  {
   "cell_type": "code",
   "execution_count": 1,
   "id": "22b41781",
   "metadata": {},
   "outputs": [],
   "source": [
    "import sys\n",
    "assert sys.version_info >= (3, 5)\n",
    "\n",
    "import sklearn\n",
    "assert sklearn.__version__ >= \"0.20\"\n",
    "\n",
    "import numpy as np\n",
    "import os\n",
    "\n",
    "%matplotlib inline\n",
    "import matplotlib as mpl\n",
    "import matplotlib.pyplot as plt"
   ]
  },
  {
   "cell_type": "markdown",
   "id": "934d5c66",
   "metadata": {},
   "source": [
    "## kc_house_data 받아오기"
   ]
  },
  {
   "cell_type": "code",
   "execution_count": 2,
   "id": "1feb519e",
   "metadata": {},
   "outputs": [],
   "source": [
    "import numpy as np\n",
    "import pandas as pd\n",
    "\n",
    "df = pd.read_csv(\"kc_house_data.csv\")"
   ]
  },
  {
   "cell_type": "markdown",
   "id": "6355773f",
   "metadata": {},
   "source": [
    "## kc_house_data의 type과 특성값들이 전부 존재하는지 확인"
   ]
  },
  {
   "cell_type": "code",
   "execution_count": 3,
   "id": "b45a758a",
   "metadata": {},
   "outputs": [
    {
     "name": "stdout",
     "output_type": "stream",
     "text": [
      "<class 'pandas.core.frame.DataFrame'>\n",
      "RangeIndex: 21613 entries, 0 to 21612\n",
      "Data columns (total 21 columns):\n",
      " #   Column         Non-Null Count  Dtype  \n",
      "---  ------         --------------  -----  \n",
      " 0   id             21613 non-null  int64  \n",
      " 1   date           21613 non-null  object \n",
      " 2   price          21613 non-null  float64\n",
      " 3   bedrooms       21613 non-null  int64  \n",
      " 4   bathrooms      21613 non-null  float64\n",
      " 5   sqft_living    21613 non-null  int64  \n",
      " 6   sqft_lot       21613 non-null  int64  \n",
      " 7   floors         21613 non-null  float64\n",
      " 8   waterfront     21613 non-null  int64  \n",
      " 9   view           21613 non-null  int64  \n",
      " 10  condition      21613 non-null  int64  \n",
      " 11  grade          21613 non-null  int64  \n",
      " 12  sqft_above     21613 non-null  int64  \n",
      " 13  sqft_basement  21613 non-null  int64  \n",
      " 14  yr_built       21613 non-null  int64  \n",
      " 15  yr_renovated   21613 non-null  int64  \n",
      " 16  zipcode        21613 non-null  int64  \n",
      " 17  lat            21613 non-null  float64\n",
      " 18  long           21613 non-null  float64\n",
      " 19  sqft_living15  21613 non-null  int64  \n",
      " 20  sqft_lot15     21613 non-null  int64  \n",
      "dtypes: float64(5), int64(15), object(1)\n",
      "memory usage: 3.5+ MB\n"
     ]
    }
   ],
   "source": [
    "df.info()"
   ]
  },
  {
   "cell_type": "markdown",
   "id": "4b7de82a",
   "metadata": {},
   "source": [
    "1. id = ID\n",
    "2. date = 거래날짜\n",
    "3. price = 거래가격(예측해야 되는 것)\n",
    "4. bedrooms = 침실수\n",
    "5. bathrooms = 욕실수\n",
    "6. sqft_living = 내부면적\n",
    "7. sqft_lot = 땅면적\n",
    "8. floors = 층수\n",
    "9. waterfront = 해변조망\n",
    "10. view = 경관\n",
    "11. condition = 상태\n",
    "12. grade = 구조설계\n",
    "13. sqft_above = 위층면적\n",
    "14. sqft_basement = 지하면적\n",
    "15. yr_built = 건축연도\n",
    "16. yr_renovated = 증축연도\n",
    "17. zipcode = 우편주소\n",
    "18. lat = 위도\n",
    "19. long = 경도\n",
    "20. sqft_living15 = 주위 15가구 내부 면적?\n",
    "21. sqft_lot15 = 주위 15가구 외부 면적?\n",
    "\n",
    "## date는 object이므로 숫자로 변환 필요, 모든 특성 개수 21613개 이므로 결측치 존재X"
   ]
  },
  {
   "cell_type": "markdown",
   "id": "61a4103b",
   "metadata": {},
   "source": [
    "# 특성조합"
   ]
  },
  {
   "cell_type": "code",
   "execution_count": 4,
   "id": "8ab83224",
   "metadata": {},
   "outputs": [
    {
     "data": {
      "text/plain": [
       "0        2603\n",
       "1        2546\n",
       "2        2468\n",
       "3        2546\n",
       "4        2475\n",
       "         ... \n",
       "21608    2748\n",
       "21609    2470\n",
       "21610    2715\n",
       "21611    2508\n",
       "21612    2601\n",
       "Name: now-date, Length: 21613, dtype: int64"
      ]
     },
     "execution_count": 4,
     "metadata": {},
     "output_type": "execute_result"
    }
   ],
   "source": [
    "df[\"date\"] = pd.to_datetime(df[\"date\"])\n",
    "import datetime #현재 날짜 받아오기 위해 datatime 사용\n",
    "df[\"now\"] = pd.to_datetime(datetime.datetime.now().strftime(\"%Y-%m-%d\"))\n",
    "df[\"now-date\"] = (df[\"now\"] - df[\"date\"]).dt.days\n",
    "df[\"now-date\"] #현재 날짜 - 거래날짜를 int형으로 변환"
   ]
  },
  {
   "cell_type": "code",
   "execution_count": 5,
   "id": "6d7ea90c",
   "metadata": {},
   "outputs": [],
   "source": [
    "df[\"gps\"] = df[\"long\"] / df[\"lat\"]\n",
    "df[\"backyard\"] = df[\"sqft_lot\"] - df[\"sqft_living\"]\n",
    "df[\"sqft_rate\"] = df[\"sqft_lot\"] - df[\"sqft_above\"]\n",
    "df[\"beach\"] = df[\"waterfront\"] + df[\"lat\"]\n",
    "df[\"view + long\"] = df[\"view\"] + df[\"long\"]\n",
    "df[\"grade**2\"] = df[\"grade\"]**2\n",
    "df[\"bedrooms / sqft_living\"] = df[\"bedrooms\"] / df[\"sqft_living\"]\n",
    "df[\"zipcode / long\"] = df[\"zipcode\"] / df[\"long\"]\n",
    "df[\"living\"] = df[\"sqft_living\"] + df[\"sqft_living15\"]\n",
    "df[\"grade**2 / now-date\"] = df[\"grade**2\"] / df[\"now-date\"]\n",
    "df[\"waterfront * bathrooms\"] = df[\"waterfront\"] * df[\"bathrooms\"]\n",
    "df[\"condition**2\"] = df[\"condition\"]**2"
   ]
  },
  {
   "cell_type": "markdown",
   "id": "21994efe",
   "metadata": {},
   "source": [
    "## price와 표쥰 상관 계수 조사"
   ]
  },
  {
   "cell_type": "code",
   "execution_count": 6,
   "id": "b71f6cfd",
   "metadata": {},
   "outputs": [
    {
     "data": {
      "text/plain": [
       "price                     1.000000\n",
       "sqft_living               0.702035\n",
       "living                    0.694920\n",
       "grade**2                  0.692402\n",
       "grade**2 / now-date       0.688335\n",
       "grade                     0.667434\n",
       "sqft_above                0.605567\n",
       "sqft_living15             0.585379\n",
       "bathrooms                 0.525138\n",
       "beach                     0.404086\n",
       "view + long               0.400277\n",
       "view                      0.397293\n",
       "sqft_basement             0.323816\n",
       "waterfront * bathrooms    0.318485\n",
       "gps                       0.308589\n",
       "bedrooms                  0.308350\n",
       "lat                       0.307003\n",
       "waterfront                0.266369\n",
       "floors                    0.256794\n",
       "yr_renovated              0.126434\n",
       "sqft_lot                  0.089661\n",
       "sqft_lot15                0.082447\n",
       "sqft_rate                 0.077825\n",
       "backyard                  0.074361\n",
       "yr_built                  0.054012\n",
       "condition**2              0.037287\n",
       "condition                 0.036362\n",
       "long                      0.021626\n",
       "zipcode / long            0.004375\n",
       "now-date                  0.004357\n",
       "id                       -0.016762\n",
       "zipcode                  -0.053203\n",
       "bedrooms / sqft_living   -0.468367\n",
       "Name: price, dtype: float64"
      ]
     },
     "execution_count": 6,
     "metadata": {},
     "output_type": "execute_result"
    }
   ],
   "source": [
    "corr_matrix = df.corr()\n",
    "corr_matrix[\"price\"].sort_values(ascending=False)"
   ]
  },
  {
   "cell_type": "markdown",
   "id": "18983596",
   "metadata": {},
   "source": [
    "## x_train과 y_train(housing_label) 선언"
   ]
  },
  {
   "cell_type": "markdown",
   "id": "fa4c6832",
   "metadata": {},
   "source": [
    "### 선언 후, x_train이 잘 나왔는지 확인"
   ]
  },
  {
   "cell_type": "code",
   "execution_count": 7,
   "id": "cdf0e9f2",
   "metadata": {},
   "outputs": [
    {
     "data": {
      "text/html": [
       "<div>\n",
       "<style scoped>\n",
       "    .dataframe tbody tr th:only-of-type {\n",
       "        vertical-align: middle;\n",
       "    }\n",
       "\n",
       "    .dataframe tbody tr th {\n",
       "        vertical-align: top;\n",
       "    }\n",
       "\n",
       "    .dataframe thead th {\n",
       "        text-align: right;\n",
       "    }\n",
       "</style>\n",
       "<table border=\"1\" class=\"dataframe\">\n",
       "  <thead>\n",
       "    <tr style=\"text-align: right;\">\n",
       "      <th></th>\n",
       "      <th>bathrooms</th>\n",
       "      <th>sqft_living</th>\n",
       "      <th>sqft_lot</th>\n",
       "      <th>waterfront</th>\n",
       "      <th>grade</th>\n",
       "      <th>sqft_above</th>\n",
       "      <th>yr_built</th>\n",
       "      <th>lat</th>\n",
       "      <th>long</th>\n",
       "      <th>sqft_living15</th>\n",
       "      <th>...</th>\n",
       "      <th>sqft_rate</th>\n",
       "      <th>beach</th>\n",
       "      <th>view + long</th>\n",
       "      <th>grade**2</th>\n",
       "      <th>bedrooms / sqft_living</th>\n",
       "      <th>zipcode / long</th>\n",
       "      <th>living</th>\n",
       "      <th>grade**2 / now-date</th>\n",
       "      <th>waterfront * bathrooms</th>\n",
       "      <th>condition**2</th>\n",
       "    </tr>\n",
       "  </thead>\n",
       "  <tbody>\n",
       "    <tr>\n",
       "      <th>0</th>\n",
       "      <td>1.00</td>\n",
       "      <td>1180</td>\n",
       "      <td>5650</td>\n",
       "      <td>0</td>\n",
       "      <td>7</td>\n",
       "      <td>1180</td>\n",
       "      <td>1955</td>\n",
       "      <td>47.5112</td>\n",
       "      <td>-122.257</td>\n",
       "      <td>1340</td>\n",
       "      <td>...</td>\n",
       "      <td>4470</td>\n",
       "      <td>47.5112</td>\n",
       "      <td>-122.257</td>\n",
       "      <td>49</td>\n",
       "      <td>0.002542</td>\n",
       "      <td>-803.046042</td>\n",
       "      <td>2520</td>\n",
       "      <td>0.018824</td>\n",
       "      <td>0.0</td>\n",
       "      <td>9</td>\n",
       "    </tr>\n",
       "    <tr>\n",
       "      <th>1</th>\n",
       "      <td>2.25</td>\n",
       "      <td>2570</td>\n",
       "      <td>7242</td>\n",
       "      <td>0</td>\n",
       "      <td>7</td>\n",
       "      <td>2170</td>\n",
       "      <td>1951</td>\n",
       "      <td>47.7210</td>\n",
       "      <td>-122.319</td>\n",
       "      <td>1690</td>\n",
       "      <td>...</td>\n",
       "      <td>5072</td>\n",
       "      <td>47.7210</td>\n",
       "      <td>-122.319</td>\n",
       "      <td>49</td>\n",
       "      <td>0.001167</td>\n",
       "      <td>-802.205708</td>\n",
       "      <td>4260</td>\n",
       "      <td>0.019246</td>\n",
       "      <td>0.0</td>\n",
       "      <td>9</td>\n",
       "    </tr>\n",
       "    <tr>\n",
       "      <th>2</th>\n",
       "      <td>1.00</td>\n",
       "      <td>770</td>\n",
       "      <td>10000</td>\n",
       "      <td>0</td>\n",
       "      <td>6</td>\n",
       "      <td>770</td>\n",
       "      <td>1933</td>\n",
       "      <td>47.7379</td>\n",
       "      <td>-122.233</td>\n",
       "      <td>2720</td>\n",
       "      <td>...</td>\n",
       "      <td>9230</td>\n",
       "      <td>47.7379</td>\n",
       "      <td>-122.233</td>\n",
       "      <td>36</td>\n",
       "      <td>0.002597</td>\n",
       "      <td>-801.976553</td>\n",
       "      <td>3490</td>\n",
       "      <td>0.014587</td>\n",
       "      <td>0.0</td>\n",
       "      <td>9</td>\n",
       "    </tr>\n",
       "    <tr>\n",
       "      <th>3</th>\n",
       "      <td>3.00</td>\n",
       "      <td>1960</td>\n",
       "      <td>5000</td>\n",
       "      <td>0</td>\n",
       "      <td>7</td>\n",
       "      <td>1050</td>\n",
       "      <td>1965</td>\n",
       "      <td>47.5208</td>\n",
       "      <td>-122.393</td>\n",
       "      <td>1360</td>\n",
       "      <td>...</td>\n",
       "      <td>3950</td>\n",
       "      <td>47.5208</td>\n",
       "      <td>-122.393</td>\n",
       "      <td>49</td>\n",
       "      <td>0.002041</td>\n",
       "      <td>-801.810561</td>\n",
       "      <td>3320</td>\n",
       "      <td>0.019246</td>\n",
       "      <td>0.0</td>\n",
       "      <td>25</td>\n",
       "    </tr>\n",
       "    <tr>\n",
       "      <th>4</th>\n",
       "      <td>2.00</td>\n",
       "      <td>1680</td>\n",
       "      <td>8080</td>\n",
       "      <td>0</td>\n",
       "      <td>8</td>\n",
       "      <td>1680</td>\n",
       "      <td>1987</td>\n",
       "      <td>47.6168</td>\n",
       "      <td>-122.045</td>\n",
       "      <td>1800</td>\n",
       "      <td>...</td>\n",
       "      <td>6400</td>\n",
       "      <td>47.6168</td>\n",
       "      <td>-122.045</td>\n",
       "      <td>64</td>\n",
       "      <td>0.001786</td>\n",
       "      <td>-803.588840</td>\n",
       "      <td>3480</td>\n",
       "      <td>0.025859</td>\n",
       "      <td>0.0</td>\n",
       "      <td>9</td>\n",
       "    </tr>\n",
       "    <tr>\n",
       "      <th>...</th>\n",
       "      <td>...</td>\n",
       "      <td>...</td>\n",
       "      <td>...</td>\n",
       "      <td>...</td>\n",
       "      <td>...</td>\n",
       "      <td>...</td>\n",
       "      <td>...</td>\n",
       "      <td>...</td>\n",
       "      <td>...</td>\n",
       "      <td>...</td>\n",
       "      <td>...</td>\n",
       "      <td>...</td>\n",
       "      <td>...</td>\n",
       "      <td>...</td>\n",
       "      <td>...</td>\n",
       "      <td>...</td>\n",
       "      <td>...</td>\n",
       "      <td>...</td>\n",
       "      <td>...</td>\n",
       "      <td>...</td>\n",
       "      <td>...</td>\n",
       "    </tr>\n",
       "    <tr>\n",
       "      <th>21608</th>\n",
       "      <td>2.50</td>\n",
       "      <td>1530</td>\n",
       "      <td>1131</td>\n",
       "      <td>0</td>\n",
       "      <td>8</td>\n",
       "      <td>1530</td>\n",
       "      <td>2009</td>\n",
       "      <td>47.6993</td>\n",
       "      <td>-122.346</td>\n",
       "      <td>1530</td>\n",
       "      <td>...</td>\n",
       "      <td>-399</td>\n",
       "      <td>47.6993</td>\n",
       "      <td>-122.346</td>\n",
       "      <td>64</td>\n",
       "      <td>0.001961</td>\n",
       "      <td>-801.848855</td>\n",
       "      <td>3060</td>\n",
       "      <td>0.023290</td>\n",
       "      <td>0.0</td>\n",
       "      <td>9</td>\n",
       "    </tr>\n",
       "    <tr>\n",
       "      <th>21609</th>\n",
       "      <td>2.50</td>\n",
       "      <td>2310</td>\n",
       "      <td>5813</td>\n",
       "      <td>0</td>\n",
       "      <td>8</td>\n",
       "      <td>2310</td>\n",
       "      <td>2014</td>\n",
       "      <td>47.5107</td>\n",
       "      <td>-122.362</td>\n",
       "      <td>1830</td>\n",
       "      <td>...</td>\n",
       "      <td>3503</td>\n",
       "      <td>47.5107</td>\n",
       "      <td>-122.362</td>\n",
       "      <td>64</td>\n",
       "      <td>0.001732</td>\n",
       "      <td>-802.095422</td>\n",
       "      <td>4140</td>\n",
       "      <td>0.025911</td>\n",
       "      <td>0.0</td>\n",
       "      <td>9</td>\n",
       "    </tr>\n",
       "    <tr>\n",
       "      <th>21610</th>\n",
       "      <td>0.75</td>\n",
       "      <td>1020</td>\n",
       "      <td>1350</td>\n",
       "      <td>0</td>\n",
       "      <td>7</td>\n",
       "      <td>1020</td>\n",
       "      <td>2009</td>\n",
       "      <td>47.5944</td>\n",
       "      <td>-122.299</td>\n",
       "      <td>1020</td>\n",
       "      <td>...</td>\n",
       "      <td>330</td>\n",
       "      <td>47.5944</td>\n",
       "      <td>-122.299</td>\n",
       "      <td>49</td>\n",
       "      <td>0.001961</td>\n",
       "      <td>-802.492253</td>\n",
       "      <td>2040</td>\n",
       "      <td>0.018048</td>\n",
       "      <td>0.0</td>\n",
       "      <td>9</td>\n",
       "    </tr>\n",
       "    <tr>\n",
       "      <th>21611</th>\n",
       "      <td>2.50</td>\n",
       "      <td>1600</td>\n",
       "      <td>2388</td>\n",
       "      <td>0</td>\n",
       "      <td>8</td>\n",
       "      <td>1600</td>\n",
       "      <td>2004</td>\n",
       "      <td>47.5345</td>\n",
       "      <td>-122.069</td>\n",
       "      <td>1410</td>\n",
       "      <td>...</td>\n",
       "      <td>788</td>\n",
       "      <td>47.5345</td>\n",
       "      <td>-122.069</td>\n",
       "      <td>64</td>\n",
       "      <td>0.001875</td>\n",
       "      <td>-803.045818</td>\n",
       "      <td>3010</td>\n",
       "      <td>0.025518</td>\n",
       "      <td>0.0</td>\n",
       "      <td>9</td>\n",
       "    </tr>\n",
       "    <tr>\n",
       "      <th>21612</th>\n",
       "      <td>0.75</td>\n",
       "      <td>1020</td>\n",
       "      <td>1076</td>\n",
       "      <td>0</td>\n",
       "      <td>7</td>\n",
       "      <td>1020</td>\n",
       "      <td>2008</td>\n",
       "      <td>47.5941</td>\n",
       "      <td>-122.299</td>\n",
       "      <td>1020</td>\n",
       "      <td>...</td>\n",
       "      <td>56</td>\n",
       "      <td>47.5941</td>\n",
       "      <td>-122.299</td>\n",
       "      <td>49</td>\n",
       "      <td>0.001961</td>\n",
       "      <td>-802.492253</td>\n",
       "      <td>2040</td>\n",
       "      <td>0.018839</td>\n",
       "      <td>0.0</td>\n",
       "      <td>9</td>\n",
       "    </tr>\n",
       "  </tbody>\n",
       "</table>\n",
       "<p>21613 rows × 24 columns</p>\n",
       "</div>"
      ],
      "text/plain": [
       "       bathrooms  sqft_living  sqft_lot  waterfront  grade  sqft_above  \\\n",
       "0           1.00         1180      5650           0      7        1180   \n",
       "1           2.25         2570      7242           0      7        2170   \n",
       "2           1.00          770     10000           0      6         770   \n",
       "3           3.00         1960      5000           0      7        1050   \n",
       "4           2.00         1680      8080           0      8        1680   \n",
       "...          ...          ...       ...         ...    ...         ...   \n",
       "21608       2.50         1530      1131           0      8        1530   \n",
       "21609       2.50         2310      5813           0      8        2310   \n",
       "21610       0.75         1020      1350           0      7        1020   \n",
       "21611       2.50         1600      2388           0      8        1600   \n",
       "21612       0.75         1020      1076           0      7        1020   \n",
       "\n",
       "       yr_built      lat     long  sqft_living15  ...  sqft_rate    beach  \\\n",
       "0          1955  47.5112 -122.257           1340  ...       4470  47.5112   \n",
       "1          1951  47.7210 -122.319           1690  ...       5072  47.7210   \n",
       "2          1933  47.7379 -122.233           2720  ...       9230  47.7379   \n",
       "3          1965  47.5208 -122.393           1360  ...       3950  47.5208   \n",
       "4          1987  47.6168 -122.045           1800  ...       6400  47.6168   \n",
       "...         ...      ...      ...            ...  ...        ...      ...   \n",
       "21608      2009  47.6993 -122.346           1530  ...       -399  47.6993   \n",
       "21609      2014  47.5107 -122.362           1830  ...       3503  47.5107   \n",
       "21610      2009  47.5944 -122.299           1020  ...        330  47.5944   \n",
       "21611      2004  47.5345 -122.069           1410  ...        788  47.5345   \n",
       "21612      2008  47.5941 -122.299           1020  ...         56  47.5941   \n",
       "\n",
       "       view + long  grade**2  bedrooms / sqft_living  zipcode / long  living  \\\n",
       "0         -122.257        49                0.002542     -803.046042    2520   \n",
       "1         -122.319        49                0.001167     -802.205708    4260   \n",
       "2         -122.233        36                0.002597     -801.976553    3490   \n",
       "3         -122.393        49                0.002041     -801.810561    3320   \n",
       "4         -122.045        64                0.001786     -803.588840    3480   \n",
       "...            ...       ...                     ...             ...     ...   \n",
       "21608     -122.346        64                0.001961     -801.848855    3060   \n",
       "21609     -122.362        64                0.001732     -802.095422    4140   \n",
       "21610     -122.299        49                0.001961     -802.492253    2040   \n",
       "21611     -122.069        64                0.001875     -803.045818    3010   \n",
       "21612     -122.299        49                0.001961     -802.492253    2040   \n",
       "\n",
       "       grade**2 / now-date  waterfront * bathrooms  condition**2  \n",
       "0                 0.018824                     0.0             9  \n",
       "1                 0.019246                     0.0             9  \n",
       "2                 0.014587                     0.0             9  \n",
       "3                 0.019246                     0.0            25  \n",
       "4                 0.025859                     0.0             9  \n",
       "...                    ...                     ...           ...  \n",
       "21608             0.023290                     0.0             9  \n",
       "21609             0.025911                     0.0             9  \n",
       "21610             0.018048                     0.0             9  \n",
       "21611             0.025518                     0.0             9  \n",
       "21612             0.018839                     0.0             9  \n",
       "\n",
       "[21613 rows x 24 columns]"
      ]
     },
     "execution_count": 7,
     "metadata": {},
     "output_type": "execute_result"
    }
   ],
   "source": [
    "x_train = df.drop([\"price\", \"date\", \"condition\", \"id\", \"floors\", \"bedrooms\", \"sqft_basement\", \"now\", \"view\", \"yr_renovated\", \"zipcode\"], axis = 1)\n",
    "housing_label = df[\"price\"].copy()\n",
    "x_train"
   ]
  },
  {
   "cell_type": "markdown",
   "id": "effd79af",
   "metadata": {},
   "source": [
    "### housing_label이 잘 나왔는지 확인"
   ]
  },
  {
   "cell_type": "code",
   "execution_count": 8,
   "id": "484fb500",
   "metadata": {},
   "outputs": [
    {
     "data": {
      "text/plain": [
       "0        221900.0\n",
       "1        538000.0\n",
       "2        180000.0\n",
       "3        604000.0\n",
       "4        510000.0\n",
       "           ...   \n",
       "21608    360000.0\n",
       "21609    400000.0\n",
       "21610    402101.0\n",
       "21611    400000.0\n",
       "21612    325000.0\n",
       "Name: price, Length: 21613, dtype: float64"
      ]
     },
     "execution_count": 8,
     "metadata": {},
     "output_type": "execute_result"
    }
   ],
   "source": [
    "housing_label"
   ]
  },
  {
   "cell_type": "markdown",
   "id": "b40ed4dc",
   "metadata": {},
   "source": [
    "# 사용하는 모델이 Extra Trees Regressor와 GBRT이므로 정규화는 필요 X"
   ]
  },
  {
   "cell_type": "markdown",
   "id": "1a5290e2",
   "metadata": {},
   "source": [
    "## Grid Search(Extra Trees Regressor)"
   ]
  },
  {
   "cell_type": "code",
   "execution_count": 9,
   "id": "439fb95b",
   "metadata": {},
   "outputs": [],
   "source": [
    "from sklearn.ensemble import ExtraTreesRegressor\n",
    "from sklearn.model_selection import GridSearchCV\n",
    "Ex_param_grid = {\n",
    "    'n_estimators' : [700,750,800],\n",
    "    'max_depth' : [29,30,31,32],\n",
    "    'min_samples_leaf' : [1,2],\n",
    "    'min_samples_split' : [2,3,4]\n",
    "}"
   ]
  },
  {
   "cell_type": "markdown",
   "id": "e0a6e95a",
   "metadata": {},
   "source": [
    "찾고자 하는 값이 너무 많으면, 시간이 오래 걸리기 때문에 여러번 진행 후 범위를 줄임."
   ]
  },
  {
   "cell_type": "code",
   "execution_count": 10,
   "id": "d43f2747",
   "metadata": {},
   "outputs": [
    {
     "name": "stdout",
     "output_type": "stream",
     "text": [
      "Fitting 5 folds for each of 72 candidates, totalling 360 fits\n"
     ]
    },
    {
     "data": {
      "text/plain": [
       "GridSearchCV(estimator=ExtraTreesRegressor(n_jobs=-1, random_state=42),\n",
       "             n_jobs=-1,\n",
       "             param_grid={'max_depth': [29, 30, 31, 32],\n",
       "                         'min_samples_leaf': [1, 2],\n",
       "                         'min_samples_split': [2, 3, 4],\n",
       "                         'n_estimators': [700, 750, 800]},\n",
       "             verbose=1)"
      ]
     },
     "execution_count": 10,
     "metadata": {},
     "output_type": "execute_result"
    }
   ],
   "source": [
    "Extra_reg = ExtraTreesRegressor(random_state=42, n_jobs = -1)\n",
    "Extra_reg.fit(x_train, housing_label)\n",
    "\n",
    "Ex_grid = GridSearchCV(Extra_reg, param_grid = Ex_param_grid, n_jobs=-1, verbose = 1)\n",
    "Ex_grid.fit(x_train, housing_label)"
   ]
  },
  {
   "cell_type": "markdown",
   "id": "779c5c62",
   "metadata": {},
   "source": [
    "## Grid Search 에서 나온 최상의 하이퍼파라미터를 모델에 대입 후 fit"
   ]
  },
  {
   "cell_type": "code",
   "execution_count": 11,
   "id": "9a45cb8f",
   "metadata": {},
   "outputs": [
    {
     "name": "stdout",
     "output_type": "stream",
     "text": [
      "{'max_depth': 30, 'min_samples_leaf': 1, 'min_samples_split': 2, 'n_estimators': 800}\n"
     ]
    }
   ],
   "source": [
    "print(Ex_grid.best_params_)"
   ]
  },
  {
   "cell_type": "code",
   "execution_count": 12,
   "id": "ed42b6cc",
   "metadata": {},
   "outputs": [],
   "source": [
    "Ex_max_depth = Ex_grid.best_params_[\"max_depth\"]\n",
    "Ex_min_samples_leaf = Ex_grid.best_params_[\"min_samples_leaf\"]\n",
    "Ex_min_samples_split = Ex_grid.best_params_[\"min_samples_split\"]\n",
    "Ex_n_estimators = Ex_grid.best_params_[\"n_estimators\"]"
   ]
  },
  {
   "cell_type": "code",
   "execution_count": 13,
   "id": "390902b6",
   "metadata": {},
   "outputs": [
    {
     "data": {
      "text/plain": [
       "ExtraTreesRegressor(max_depth=30, n_estimators=800, n_jobs=-1, random_state=42)"
      ]
     },
     "execution_count": 13,
     "metadata": {},
     "output_type": "execute_result"
    }
   ],
   "source": [
    "Ex_reg = ExtraTreesRegressor(n_estimators = Ex_n_estimators, max_depth = Ex_max_depth, \n",
    "                                     min_samples_leaf=Ex_min_samples_leaf, min_samples_split = Ex_min_samples_split, \n",
    "                                     random_state=42, n_jobs = -1)\n",
    "Ex_reg.fit(x_train, housing_label)"
   ]
  },
  {
   "cell_type": "markdown",
   "id": "91bb03d1",
   "metadata": {},
   "source": [
    "## Gradient Boosting Regressor의 n_estimators 찾기"
   ]
  },
  {
   "cell_type": "code",
   "execution_count": 14,
   "id": "1e053367",
   "metadata": {},
   "outputs": [
    {
     "data": {
      "text/plain": [
       "GradientBoostingRegressor(max_depth=2, random_state=42, warm_start=True)"
      ]
     },
     "execution_count": 14,
     "metadata": {},
     "output_type": "execute_result"
    }
   ],
   "source": [
    "from sklearn.ensemble import GradientBoostingRegressor\n",
    "\n",
    "gbrt_reg = GradientBoostingRegressor(max_depth=2, warm_start=True, random_state=42)\n",
    "gbrt_reg.fit(x_train, housing_label)"
   ]
  },
  {
   "cell_type": "markdown",
   "id": "18a74fee",
   "metadata": {},
   "source": [
    "## 10-fold cross validation의 평균 오차가 향상되지 않으면(5번) 훈련 조기 종료"
   ]
  },
  {
   "cell_type": "markdown",
   "id": "b2026653",
   "metadata": {},
   "source": [
    "train set과 test set을 나누지 않았기 때문에, rmse로는 확인 불가!(rmse가 0으로 과대적합 할 때까지 계속 된다.)\n",
    "그러므로 10-fold cross validation을 하고 난 후, cross validation을 서로 비교하여 최적의 값을 나오게 하고,\n",
    "모델에 대입 후 fit"
   ]
  },
  {
   "cell_type": "code",
   "execution_count": 15,
   "id": "a688a860",
   "metadata": {},
   "outputs": [],
   "source": [
    "from sklearn.model_selection import cross_val_score\n",
    "\n",
    "def cv10(gbrt, x_train, y_train):\n",
    "    gbrt_cv2_scores = cross_val_score(gbrt,x_train,y_train, scoring=\"neg_mean_squared_error\", cv=10)\n",
    "    gbrt_cv2_rmse_scores = np.sqrt(-gbrt_cv2_scores)\n",
    "    mean = gbrt_cv2_rmse_scores.mean()\n",
    "    return mean"
   ]
  },
  {
   "cell_type": "markdown",
   "id": "0bf21a0c",
   "metadata": {},
   "source": [
    "#### max_depth는 2로 고정"
   ]
  },
  {
   "cell_type": "code",
   "execution_count": 16,
   "id": "9e29ef95",
   "metadata": {},
   "outputs": [
    {
     "name": "stdout",
     "output_type": "stream",
     "text": [
      "mean: 117680.68413725015, n_estimators: 3500\n",
      "mean: 117654.11132468151, n_estimators: 3600\n",
      "mean: 117611.93569349959, n_estimators: 3700\n",
      "mean: 117589.11818586613, n_estimators: 3800\n",
      "mean: 117536.26315713013, n_estimators: 3900\n",
      "mean: 117511.07606747425, n_estimators: 4000\n",
      "mean: 117510.55002574774, n_estimators: 4100\n",
      "over the best_n_estimators! mean: 117518.17980918265 n_estimators: 4200, best_n_estimators: 4100\n",
      "over the best_n_estimators! mean: 117556.7672170349 n_estimators: 4300, best_n_estimators: 4100\n",
      "over the best_n_estimators! mean: 117542.87114022669 n_estimators: 4400, best_n_estimators: 4100\n",
      "over the best_n_estimators! mean: 117542.9749642502 n_estimators: 4500, best_n_estimators: 4100\n",
      "over the best_n_estimators! mean: 117588.52959720837 n_estimators: 4600, best_n_estimators: 4100\n"
     ]
    }
   ],
   "source": [
    "min_val_error = float(\"inf\")\n",
    "error_going_up = 0\n",
    "best_n_estimators = 0\n",
    "for n_estimators in range(3500, 5500, 100):\n",
    "    gbrt_reg.n_estimators = n_estimators\n",
    "    gbrt_reg.fit(x_train, housing_label)\n",
    "    mean = cv10(gbrt_reg,x_train, housing_label)\n",
    "    if mean < min_val_error:\n",
    "        min_val_error = mean\n",
    "        error_going_up = 0\n",
    "        print(f\"mean: {min_val_error}, n_estimators: {n_estimators}\")\n",
    "        best_n_estimators = n_estimators\n",
    "    else:\n",
    "        print(f\"over the best_n_estimators! mean: {mean} n_estimators: {n_estimators}, best_n_estimators: {best_n_estimators}\")\n",
    "        error_going_up += 1\n",
    "        if error_going_up == 5:\n",
    "            gbrt_reg.n_estimators = best_n_estimators\n",
    "            break"
   ]
  },
  {
   "cell_type": "markdown",
   "id": "ddf0a3df",
   "metadata": {},
   "source": [
    "## GBRT 모델 fit"
   ]
  },
  {
   "cell_type": "code",
   "execution_count": 17,
   "id": "3a9c0596",
   "metadata": {},
   "outputs": [
    {
     "data": {
      "text/plain": [
       "GradientBoostingRegressor(max_depth=2, n_estimators=4100, random_state=42)"
      ]
     },
     "execution_count": 17,
     "metadata": {},
     "output_type": "execute_result"
    }
   ],
   "source": [
    "gbrt_reg = GradientBoostingRegressor(max_depth=2, n_estimators = best_n_estimators , random_state=42)\n",
    "gbrt_reg.fit(x_train, housing_label)"
   ]
  },
  {
   "cell_type": "markdown",
   "id": "8e176aa1",
   "metadata": {},
   "source": [
    "## 각각 모델의 rmse 출력"
   ]
  },
  {
   "cell_type": "code",
   "execution_count": 18,
   "id": "ffafa2b7",
   "metadata": {},
   "outputs": [],
   "source": [
    "def display_rmse_scores(ex_sc, gbrt_sc):\n",
    "    print(f\"Extra_rmse_scores : {ex_sc}\")\n",
    "    print(f\"gert_rmse_scores : {gbrt_sc}\")"
   ]
  },
  {
   "cell_type": "code",
   "execution_count": 19,
   "id": "f843a5b4",
   "metadata": {},
   "outputs": [
    {
     "name": "stdout",
     "output_type": "stream",
     "text": [
      "Extra_rmse_scores : 369.4055363670069\n",
      "gert_rmse_scores : 74727.23258651365\n"
     ]
    }
   ],
   "source": [
    "from sklearn.metrics import mean_squared_error\n",
    "\n",
    "Ex_predictions = Ex_reg.predict(x_train)\n",
    "Ex_mse = mean_squared_error(housing_label, Ex_predictions)\n",
    "Ex_rmse = np.sqrt(Ex_mse)\n",
    "\n",
    "gbrt_predictions = gbrt_reg.predict(x_train)\n",
    "gbrt_mse = mean_squared_error(housing_label, gbrt_predictions)\n",
    "gbrt_rmse = np.sqrt(gbrt_mse)\n",
    "\n",
    "display_rmse_scores(Ex_rmse, gbrt_rmse)"
   ]
  },
  {
   "cell_type": "markdown",
   "id": "40951306",
   "metadata": {},
   "source": [
    "## 10-fold cross-validation 이후 각각의 모델의 Scores, 평균오차, 표쥰편차 출력"
   ]
  },
  {
   "cell_type": "code",
   "execution_count": 20,
   "id": "1e4318e1",
   "metadata": {},
   "outputs": [],
   "source": [
    "def display_scores(scores):\n",
    "    print(\"Scores:\", scores)\n",
    "    print(\"Mean:\", scores.mean())\n",
    "    print(\"Standard deviation:\", scores.std())"
   ]
  },
  {
   "cell_type": "code",
   "execution_count": 21,
   "id": "1e3dfdbc",
   "metadata": {},
   "outputs": [],
   "source": [
    "Ex_scores = cross_val_score(Ex_reg, x_train, housing_label,\n",
    "                                scoring=\"neg_mean_squared_error\", cv=10)\n",
    "Ex_rmse_scores = np.sqrt(-Ex_scores)"
   ]
  },
  {
   "cell_type": "code",
   "execution_count": 22,
   "id": "cc4a1603",
   "metadata": {},
   "outputs": [],
   "source": [
    "gbrt_scores = cross_val_score(gbrt_reg, x_train, housing_label,\n",
    "                         scoring=\"neg_mean_squared_error\", cv=10)\n",
    "gbrt_rmse_scores = np.sqrt(-gbrt_scores)"
   ]
  },
  {
   "cell_type": "code",
   "execution_count": 23,
   "id": "d6b9c3c9",
   "metadata": {},
   "outputs": [
    {
     "name": "stdout",
     "output_type": "stream",
     "text": [
      "Scores: [122085.41382816 135756.70855113 110131.92155508 114624.83043031\n",
      " 101354.08868651 123909.34112597 125893.69870206 116461.48333848\n",
      " 116051.06439364 126008.13511887]\n",
      "Mean: 119227.6685730201\n",
      "Standard deviation: 9136.90756383756\n",
      "-------------------------------------------------------------------------\n",
      "Extra Trees Regression's score!\n",
      "Scores: [118375.06790405 124244.50235326 109592.16504442 120320.13238175\n",
      " 104032.47681141 123696.72231018 121376.38272663 108081.84712313\n",
      " 112937.20578383 132448.99781881]\n",
      "Mean: 117510.55002574774\n",
      "Standard deviation: 8273.651339407332\n",
      "-------------------------------------------------------------------------\n"
     ]
    }
   ],
   "source": [
    "Ten_fold_score = [Ex_rmse_scores, gbrt_rmse_scores]\n",
    "for x in range(2):\n",
    "    if x ==1:\n",
    "        print(\"Extra Trees Regression's score!\")\n",
    "    elif x ==2:\n",
    "        print(\"Gradient boosting's score!\")\n",
    "\n",
    "    display_scores(Ten_fold_score[x])\n",
    "    print(\"-------------------------------------------------------------------------\")"
   ]
  },
  {
   "cell_type": "markdown",
   "id": "f8837204",
   "metadata": {},
   "source": [
    "# voting(엑스트라 트리, 그레디언트 부스팅)"
   ]
  },
  {
   "cell_type": "code",
   "execution_count": 24,
   "id": "4dbe4940",
   "metadata": {},
   "outputs": [
    {
     "data": {
      "text/plain": [
       "VotingRegressor(estimators=[('Ex',\n",
       "                             ExtraTreesRegressor(max_depth=30, n_estimators=800,\n",
       "                                                 n_jobs=-1, random_state=42)),\n",
       "                            ('gbrt',\n",
       "                             GradientBoostingRegressor(max_depth=2,\n",
       "                                                       n_estimators=4100,\n",
       "                                                       random_state=42))],\n",
       "                n_jobs=-1)"
      ]
     },
     "execution_count": 24,
     "metadata": {},
     "output_type": "execute_result"
    }
   ],
   "source": [
    "from sklearn.ensemble import VotingRegressor\n",
    "\n",
    "voting_reg = VotingRegressor(\n",
    "    estimators=[('Ex', Ex_reg), ('gbrt', gbrt_reg)], n_jobs = -1)\n",
    "voting_reg.fit(x_train, housing_label)"
   ]
  },
  {
   "cell_type": "markdown",
   "id": "8773b20f",
   "metadata": {},
   "source": [
    "## Voting의 rmse값 출력"
   ]
  },
  {
   "cell_type": "code",
   "execution_count": 25,
   "id": "0e1a091e",
   "metadata": {},
   "outputs": [
    {
     "data": {
      "text/plain": [
       "37402.6327772827"
      ]
     },
     "execution_count": 25,
     "metadata": {},
     "output_type": "execute_result"
    }
   ],
   "source": [
    "housing_predictions_voting = voting_reg.predict(x_train)\n",
    "voting_mse = mean_squared_error(housing_label, housing_predictions_voting)\n",
    "voting_rmse = np.sqrt(voting_mse)\n",
    "voting_rmse"
   ]
  },
  {
   "cell_type": "markdown",
   "id": "617273ff",
   "metadata": {},
   "source": [
    "## voting의 10-fold cross-validation 실행 후, Scores, 평균오차, 표준오차 출력"
   ]
  },
  {
   "cell_type": "code",
   "execution_count": 26,
   "id": "8d832a28",
   "metadata": {},
   "outputs": [
    {
     "name": "stdout",
     "output_type": "stream",
     "text": [
      "Scores: [115297.01669468 125901.18684871 106335.72176673 113327.21751575\n",
      "  97359.74332268 119174.25184423 119179.4793509  107895.14712924\n",
      " 109304.15762515 122139.84109429]\n",
      "Mean: 113591.3763192347\n",
      "Standard deviation: 8105.0587456356025\n"
     ]
    }
   ],
   "source": [
    "voting_scores = cross_val_score(voting_reg, x_train, housing_label,\n",
    "                                scoring=\"neg_mean_squared_error\", cv=10)\n",
    "voting_rmse_scores = np.sqrt(-voting_scores)\n",
    "display_scores(voting_rmse_scores)"
   ]
  },
  {
   "cell_type": "markdown",
   "id": "d2f0fed6",
   "metadata": {},
   "source": [
    "# Voting의 평균오차(Mean) : 113591.3763192347"
   ]
  },
  {
   "cell_type": "code",
   "execution_count": null,
   "id": "751cbe21",
   "metadata": {},
   "outputs": [],
   "source": []
  }
 ],
 "metadata": {
  "kernelspec": {
   "display_name": "Python 3",
   "language": "python",
   "name": "python3"
  },
  "language_info": {
   "codemirror_mode": {
    "name": "ipython",
    "version": 3
   },
   "file_extension": ".py",
   "mimetype": "text/x-python",
   "name": "python",
   "nbconvert_exporter": "python",
   "pygments_lexer": "ipython3",
   "version": "3.8.8"
  }
 },
 "nbformat": 4,
 "nbformat_minor": 5
}
