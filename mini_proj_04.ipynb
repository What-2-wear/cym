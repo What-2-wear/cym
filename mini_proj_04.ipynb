{
 "cells": [
  {
   "cell_type": "markdown",
   "id": "93439816",
   "metadata": {},
   "source": [
    "# mini_proj_02_20171541_차영민"
   ]
  },
  {
   "cell_type": "markdown",
   "id": "fdc31984",
   "metadata": {},
   "source": [
    "## pandas로 파일 받기"
   ]
  },
  {
   "cell_type": "code",
   "execution_count": 1,
   "id": "22b41781",
   "metadata": {},
   "outputs": [],
   "source": [
    "import sys\n",
    "assert sys.version_info >= (3, 5)\n",
    "\n",
    "import sklearn\n",
    "assert sklearn.__version__ >= \"0.20\"\n",
    "\n",
    "import numpy as np\n",
    "import os\n",
    "\n",
    "from sklearn.utils import shuffle\n",
    "\n",
    "%matplotlib inline\n",
    "import matplotlib as mpl\n",
    "import matplotlib.pyplot as plt\n",
    "mpl.rc('axes', labelsize=14)\n",
    "mpl.rc('xtick', labelsize=12)\n",
    "mpl.rc('ytick', labelsize=12)\n",
    "\n",
    "PROJECT_ROOT_DIR = \".\"\n",
    "CHAPTER_ID = \"mini_proj_04_20171541\"\n",
    "IMAGES_PATH = os.path.join(PROJECT_ROOT_DIR, \"images\", CHAPTER_ID)\n",
    "os.makedirs(IMAGES_PATH, exist_ok=True)\n",
    "\n",
    "def save_fig(fig_id, tight_layout=True, fig_extension=\"png\", resolution=300):\n",
    "    path = os.path.join(IMAGES_PATH, fig_id + \".\" + fig_extension)\n",
    "    print(\"Saving figure\", fig_id)\n",
    "    if tight_layout:\n",
    "        plt.tight_layout()\n",
    "    plt.savefig(path, format=fig_extension, dpi=resolution)"
   ]
  },
  {
   "cell_type": "code",
   "execution_count": 2,
   "id": "1feb519e",
   "metadata": {},
   "outputs": [],
   "source": [
    "import numpy as np\n",
    "import pandas as pd\n",
    "\n",
    "input_file = \"winequality-red.csv\"\n",
    "df = pd.read_csv(input_file)\n",
    "df = shuffle(df, random_state = 42)"
   ]
  },
  {
   "cell_type": "code",
   "execution_count": 3,
   "id": "b45a758a",
   "metadata": {},
   "outputs": [
    {
     "name": "stdout",
     "output_type": "stream",
     "text": [
      "<class 'pandas.core.frame.DataFrame'>\n",
      "Int64Index: 1599 entries, 803 to 1126\n",
      "Data columns (total 12 columns):\n",
      " #   Column                Non-Null Count  Dtype  \n",
      "---  ------                --------------  -----  \n",
      " 0   fixed acidity         1599 non-null   float64\n",
      " 1   volatile acidity      1599 non-null   float64\n",
      " 2   citric acid           1599 non-null   float64\n",
      " 3   residual sugar        1599 non-null   float64\n",
      " 4   chlorides             1599 non-null   float64\n",
      " 5   free sulfur dioxide   1599 non-null   float64\n",
      " 6   total sulfur dioxide  1599 non-null   float64\n",
      " 7   density               1599 non-null   float64\n",
      " 8   pH                    1599 non-null   float64\n",
      " 9   sulphates             1599 non-null   float64\n",
      " 10  alcohol               1599 non-null   float64\n",
      " 11  quality               1599 non-null   int64  \n",
      "dtypes: float64(11), int64(1)\n",
      "memory usage: 162.4 KB\n"
     ]
    }
   ],
   "source": [
    "df.info()"
   ]
  },
  {
   "cell_type": "markdown",
   "id": "d4062428",
   "metadata": {},
   "source": [
    "1. fixed acidity = 고정 산도\n",
    "2. volatile acidty = 휘발 산도\n",
    "3. citric acid = 시트르산\n",
    "4. residual sugar = 잔류 설탕\n",
    "5. chlorides = 염화물\n",
    "6. free sulfur dioxide = 자유 이산화황\n",
    "7. total sulfur dioxide = 총 이산화황\n",
    "8. density = 밀도\n",
    "9. pH = pH\n",
    "10. sulphates = 황산염\n",
    "11. alcohol = 알코올\n",
    "12. quality = 품질(타겟)\n",
    "\n",
    "## 비어있는 값 없음"
   ]
  },
  {
   "cell_type": "code",
   "execution_count": 4,
   "id": "4687cd74",
   "metadata": {},
   "outputs": [
    {
     "data": {
      "text/html": [
       "<div>\n",
       "<style scoped>\n",
       "    .dataframe tbody tr th:only-of-type {\n",
       "        vertical-align: middle;\n",
       "    }\n",
       "\n",
       "    .dataframe tbody tr th {\n",
       "        vertical-align: top;\n",
       "    }\n",
       "\n",
       "    .dataframe thead th {\n",
       "        text-align: right;\n",
       "    }\n",
       "</style>\n",
       "<table border=\"1\" class=\"dataframe\">\n",
       "  <thead>\n",
       "    <tr style=\"text-align: right;\">\n",
       "      <th></th>\n",
       "      <th>fixed acidity</th>\n",
       "      <th>volatile acidity</th>\n",
       "      <th>citric acid</th>\n",
       "      <th>residual sugar</th>\n",
       "      <th>chlorides</th>\n",
       "      <th>free sulfur dioxide</th>\n",
       "      <th>total sulfur dioxide</th>\n",
       "      <th>density</th>\n",
       "      <th>pH</th>\n",
       "      <th>sulphates</th>\n",
       "      <th>alcohol</th>\n",
       "      <th>quality</th>\n",
       "    </tr>\n",
       "  </thead>\n",
       "  <tbody>\n",
       "    <tr>\n",
       "      <th>803</th>\n",
       "      <td>7.7</td>\n",
       "      <td>0.560</td>\n",
       "      <td>0.08</td>\n",
       "      <td>2.50</td>\n",
       "      <td>0.114</td>\n",
       "      <td>14.0</td>\n",
       "      <td>46.0</td>\n",
       "      <td>0.99710</td>\n",
       "      <td>3.24</td>\n",
       "      <td>0.66</td>\n",
       "      <td>9.6</td>\n",
       "      <td>6</td>\n",
       "    </tr>\n",
       "    <tr>\n",
       "      <th>124</th>\n",
       "      <td>7.8</td>\n",
       "      <td>0.500</td>\n",
       "      <td>0.17</td>\n",
       "      <td>1.60</td>\n",
       "      <td>0.082</td>\n",
       "      <td>21.0</td>\n",
       "      <td>102.0</td>\n",
       "      <td>0.99600</td>\n",
       "      <td>3.39</td>\n",
       "      <td>0.48</td>\n",
       "      <td>9.5</td>\n",
       "      <td>5</td>\n",
       "    </tr>\n",
       "    <tr>\n",
       "      <th>350</th>\n",
       "      <td>10.7</td>\n",
       "      <td>0.670</td>\n",
       "      <td>0.22</td>\n",
       "      <td>2.70</td>\n",
       "      <td>0.107</td>\n",
       "      <td>17.0</td>\n",
       "      <td>34.0</td>\n",
       "      <td>1.00040</td>\n",
       "      <td>3.28</td>\n",
       "      <td>0.98</td>\n",
       "      <td>9.9</td>\n",
       "      <td>6</td>\n",
       "    </tr>\n",
       "    <tr>\n",
       "      <th>682</th>\n",
       "      <td>8.5</td>\n",
       "      <td>0.460</td>\n",
       "      <td>0.31</td>\n",
       "      <td>2.25</td>\n",
       "      <td>0.078</td>\n",
       "      <td>32.0</td>\n",
       "      <td>58.0</td>\n",
       "      <td>0.99800</td>\n",
       "      <td>3.33</td>\n",
       "      <td>0.54</td>\n",
       "      <td>9.8</td>\n",
       "      <td>5</td>\n",
       "    </tr>\n",
       "    <tr>\n",
       "      <th>1326</th>\n",
       "      <td>6.7</td>\n",
       "      <td>0.460</td>\n",
       "      <td>0.24</td>\n",
       "      <td>1.70</td>\n",
       "      <td>0.077</td>\n",
       "      <td>18.0</td>\n",
       "      <td>34.0</td>\n",
       "      <td>0.99480</td>\n",
       "      <td>3.39</td>\n",
       "      <td>0.60</td>\n",
       "      <td>10.6</td>\n",
       "      <td>6</td>\n",
       "    </tr>\n",
       "    <tr>\n",
       "      <th>...</th>\n",
       "      <td>...</td>\n",
       "      <td>...</td>\n",
       "      <td>...</td>\n",
       "      <td>...</td>\n",
       "      <td>...</td>\n",
       "      <td>...</td>\n",
       "      <td>...</td>\n",
       "      <td>...</td>\n",
       "      <td>...</td>\n",
       "      <td>...</td>\n",
       "      <td>...</td>\n",
       "      <td>...</td>\n",
       "    </tr>\n",
       "    <tr>\n",
       "      <th>1130</th>\n",
       "      <td>9.1</td>\n",
       "      <td>0.600</td>\n",
       "      <td>0.00</td>\n",
       "      <td>1.90</td>\n",
       "      <td>0.058</td>\n",
       "      <td>5.0</td>\n",
       "      <td>10.0</td>\n",
       "      <td>0.99770</td>\n",
       "      <td>3.18</td>\n",
       "      <td>0.63</td>\n",
       "      <td>10.4</td>\n",
       "      <td>6</td>\n",
       "    </tr>\n",
       "    <tr>\n",
       "      <th>1294</th>\n",
       "      <td>8.2</td>\n",
       "      <td>0.635</td>\n",
       "      <td>0.10</td>\n",
       "      <td>2.10</td>\n",
       "      <td>0.073</td>\n",
       "      <td>25.0</td>\n",
       "      <td>60.0</td>\n",
       "      <td>0.99638</td>\n",
       "      <td>3.29</td>\n",
       "      <td>0.75</td>\n",
       "      <td>10.9</td>\n",
       "      <td>6</td>\n",
       "    </tr>\n",
       "    <tr>\n",
       "      <th>860</th>\n",
       "      <td>7.2</td>\n",
       "      <td>0.620</td>\n",
       "      <td>0.06</td>\n",
       "      <td>2.70</td>\n",
       "      <td>0.077</td>\n",
       "      <td>15.0</td>\n",
       "      <td>85.0</td>\n",
       "      <td>0.99746</td>\n",
       "      <td>3.51</td>\n",
       "      <td>0.54</td>\n",
       "      <td>9.5</td>\n",
       "      <td>5</td>\n",
       "    </tr>\n",
       "    <tr>\n",
       "      <th>1459</th>\n",
       "      <td>7.9</td>\n",
       "      <td>0.200</td>\n",
       "      <td>0.35</td>\n",
       "      <td>1.70</td>\n",
       "      <td>0.054</td>\n",
       "      <td>7.0</td>\n",
       "      <td>15.0</td>\n",
       "      <td>0.99458</td>\n",
       "      <td>3.32</td>\n",
       "      <td>0.80</td>\n",
       "      <td>11.9</td>\n",
       "      <td>7</td>\n",
       "    </tr>\n",
       "    <tr>\n",
       "      <th>1126</th>\n",
       "      <td>5.8</td>\n",
       "      <td>0.290</td>\n",
       "      <td>0.26</td>\n",
       "      <td>1.70</td>\n",
       "      <td>0.063</td>\n",
       "      <td>3.0</td>\n",
       "      <td>11.0</td>\n",
       "      <td>0.99150</td>\n",
       "      <td>3.39</td>\n",
       "      <td>0.54</td>\n",
       "      <td>13.5</td>\n",
       "      <td>6</td>\n",
       "    </tr>\n",
       "  </tbody>\n",
       "</table>\n",
       "<p>1599 rows × 12 columns</p>\n",
       "</div>"
      ],
      "text/plain": [
       "      fixed acidity  volatile acidity  citric acid  residual sugar  chlorides  \\\n",
       "803             7.7             0.560         0.08            2.50      0.114   \n",
       "124             7.8             0.500         0.17            1.60      0.082   \n",
       "350            10.7             0.670         0.22            2.70      0.107   \n",
       "682             8.5             0.460         0.31            2.25      0.078   \n",
       "1326            6.7             0.460         0.24            1.70      0.077   \n",
       "...             ...               ...          ...             ...        ...   \n",
       "1130            9.1             0.600         0.00            1.90      0.058   \n",
       "1294            8.2             0.635         0.10            2.10      0.073   \n",
       "860             7.2             0.620         0.06            2.70      0.077   \n",
       "1459            7.9             0.200         0.35            1.70      0.054   \n",
       "1126            5.8             0.290         0.26            1.70      0.063   \n",
       "\n",
       "      free sulfur dioxide  total sulfur dioxide  density    pH  sulphates  \\\n",
       "803                  14.0                  46.0  0.99710  3.24       0.66   \n",
       "124                  21.0                 102.0  0.99600  3.39       0.48   \n",
       "350                  17.0                  34.0  1.00040  3.28       0.98   \n",
       "682                  32.0                  58.0  0.99800  3.33       0.54   \n",
       "1326                 18.0                  34.0  0.99480  3.39       0.60   \n",
       "...                   ...                   ...      ...   ...        ...   \n",
       "1130                  5.0                  10.0  0.99770  3.18       0.63   \n",
       "1294                 25.0                  60.0  0.99638  3.29       0.75   \n",
       "860                  15.0                  85.0  0.99746  3.51       0.54   \n",
       "1459                  7.0                  15.0  0.99458  3.32       0.80   \n",
       "1126                  3.0                  11.0  0.99150  3.39       0.54   \n",
       "\n",
       "      alcohol  quality  \n",
       "803       9.6        6  \n",
       "124       9.5        5  \n",
       "350       9.9        6  \n",
       "682       9.8        5  \n",
       "1326     10.6        6  \n",
       "...       ...      ...  \n",
       "1130     10.4        6  \n",
       "1294     10.9        6  \n",
       "860       9.5        5  \n",
       "1459     11.9        7  \n",
       "1126     13.5        6  \n",
       "\n",
       "[1599 rows x 12 columns]"
      ]
     },
     "execution_count": 4,
     "metadata": {},
     "output_type": "execute_result"
    }
   ],
   "source": [
    "df"
   ]
  },
  {
   "cell_type": "markdown",
   "id": "3628cf55",
   "metadata": {},
   "source": [
    "## 특성조합"
   ]
  },
  {
   "cell_type": "code",
   "execution_count": 5,
   "id": "00ca79bc",
   "metadata": {},
   "outputs": [],
   "source": [
    "df[\"pH - sulphates\"] = df[\"pH\"] - df[\"sulphates\"]\n",
    "df[\"citric acid - density\"] = df[\"citric acid\"] - df[\"density\"]\n",
    "df[\"alcohol + residual sugar\"] = df[\"alcohol\"] + df[\"residual sugar\"]\n",
    "df[\"fixed acidity / density\"] = df[\"fixed acidity\"] / df[\"density\"]\n",
    "df[\"total sulfur dioxide / alcohol\"] = df[\"total sulfur dioxide\"] / df[\"alcohol\"]\n",
    "df[\"test\"] = df[\"total sulfur dioxide\"] / df[\"free sulfur dioxide\"]\n",
    "df[\"test - alcohol\"] = df[\"test\"] - df[\"alcohol\"]\n",
    "df[\"test / residual sugar\"] = df[\"test\"] / df[\"residual sugar\"]\n",
    "df[\"citric acid / chlorides\"] = df[\"citric acid\"] / df[\"chlorides\"]\n",
    "df[\"volatile acidity * sulphates\"] = df[\"volatile acidity\"] * df[\"sulphates\"]"
   ]
  },
  {
   "cell_type": "markdown",
   "id": "a71dbc44",
   "metadata": {},
   "source": [
    "## quality와 상관계수 확인"
   ]
  },
  {
   "cell_type": "code",
   "execution_count": 6,
   "id": "45f660d7",
   "metadata": {},
   "outputs": [
    {
     "data": {
      "text/plain": [
       "quality                           1.000000\n",
       "alcohol                           0.476166\n",
       "citric acid / chlorides           0.295936\n",
       "alcohol + residual sugar          0.292214\n",
       "sulphates                         0.251397\n",
       "citric acid - density             0.228867\n",
       "citric acid                       0.226373\n",
       "fixed acidity / density           0.126257\n",
       "fixed acidity                     0.124052\n",
       "residual sugar                    0.013732\n",
       "free sulfur dioxide              -0.050656\n",
       "pH                               -0.057731\n",
       "test / residual sugar            -0.111417\n",
       "test                             -0.124336\n",
       "chlorides                        -0.128907\n",
       "density                          -0.174919\n",
       "total sulfur dioxide             -0.185100\n",
       "volatile acidity * sulphates     -0.185151\n",
       "pH - sulphates                   -0.205515\n",
       "total sulfur dioxide / alcohol   -0.240199\n",
       "test - alcohol                   -0.300563\n",
       "volatile acidity                 -0.390558\n",
       "Name: quality, dtype: float64"
      ]
     },
     "execution_count": 6,
     "metadata": {},
     "output_type": "execute_result"
    }
   ],
   "source": [
    "corr_matrix = df.corr()\n",
    "corr_matrix[\"quality\"].sort_values(ascending=False)"
   ]
  },
  {
   "cell_type": "code",
   "execution_count": 7,
   "id": "e43deea0",
   "metadata": {},
   "outputs": [
    {
     "data": {
      "text/plain": [
       "test                              1.000000\n",
       "test - alcohol                    0.914568\n",
       "test / residual sugar             0.897786\n",
       "total sulfur dioxide / alcohol    0.338541\n",
       "total sulfur dioxide              0.331133\n",
       "density                           0.138697\n",
       "volatile acidity * sulphates      0.095498\n",
       "chlorides                         0.081575\n",
       "citric acid                       0.067317\n",
       "citric acid - density             0.066205\n",
       "sulphates                         0.055982\n",
       "volatile acidity                  0.053302\n",
       "residual sugar                    0.050021\n",
       "fixed acidity                     0.029710\n",
       "fixed acidity / density           0.028599\n",
       "citric acid / chlorides           0.023295\n",
       "alcohol + residual sugar         -0.058162\n",
       "pH - sulphates                   -0.104734\n",
       "pH                               -0.108620\n",
       "quality                          -0.124336\n",
       "alcohol                          -0.164572\n",
       "free sulfur dioxide              -0.217280\n",
       "Name: test, dtype: float64"
      ]
     },
     "execution_count": 7,
     "metadata": {},
     "output_type": "execute_result"
    }
   ],
   "source": [
    "corr_matrix = df.corr()\n",
    "corr_matrix[\"test\"].sort_values(ascending=False)"
   ]
  },
  {
   "cell_type": "markdown",
   "id": "0de9d924",
   "metadata": {},
   "source": [
    "## x_train, quality_label(y_train)으로 나누기"
   ]
  },
  {
   "cell_type": "code",
   "execution_count": 8,
   "id": "cdf0e9f2",
   "metadata": {},
   "outputs": [
    {
     "data": {
      "text/html": [
       "<div>\n",
       "<style scoped>\n",
       "    .dataframe tbody tr th:only-of-type {\n",
       "        vertical-align: middle;\n",
       "    }\n",
       "\n",
       "    .dataframe tbody tr th {\n",
       "        vertical-align: top;\n",
       "    }\n",
       "\n",
       "    .dataframe thead th {\n",
       "        text-align: right;\n",
       "    }\n",
       "</style>\n",
       "<table border=\"1\" class=\"dataframe\">\n",
       "  <thead>\n",
       "    <tr style=\"text-align: right;\">\n",
       "      <th></th>\n",
       "      <th>fixed acidity</th>\n",
       "      <th>volatile acidity</th>\n",
       "      <th>citric acid</th>\n",
       "      <th>chlorides</th>\n",
       "      <th>free sulfur dioxide</th>\n",
       "      <th>total sulfur dioxide</th>\n",
       "      <th>pH</th>\n",
       "      <th>sulphates</th>\n",
       "      <th>alcohol</th>\n",
       "      <th>pH - sulphates</th>\n",
       "      <th>citric acid - density</th>\n",
       "      <th>alcohol + residual sugar</th>\n",
       "      <th>fixed acidity / density</th>\n",
       "      <th>total sulfur dioxide / alcohol</th>\n",
       "      <th>test</th>\n",
       "      <th>test - alcohol</th>\n",
       "      <th>test / residual sugar</th>\n",
       "      <th>citric acid / chlorides</th>\n",
       "      <th>volatile acidity * sulphates</th>\n",
       "    </tr>\n",
       "  </thead>\n",
       "  <tbody>\n",
       "    <tr>\n",
       "      <th>803</th>\n",
       "      <td>7.7</td>\n",
       "      <td>0.560</td>\n",
       "      <td>0.08</td>\n",
       "      <td>0.114</td>\n",
       "      <td>14.0</td>\n",
       "      <td>46.0</td>\n",
       "      <td>3.24</td>\n",
       "      <td>0.66</td>\n",
       "      <td>9.6</td>\n",
       "      <td>2.58</td>\n",
       "      <td>-0.91710</td>\n",
       "      <td>12.10</td>\n",
       "      <td>7.722395</td>\n",
       "      <td>4.791667</td>\n",
       "      <td>3.285714</td>\n",
       "      <td>-6.314286</td>\n",
       "      <td>1.314286</td>\n",
       "      <td>0.701754</td>\n",
       "      <td>0.36960</td>\n",
       "    </tr>\n",
       "    <tr>\n",
       "      <th>124</th>\n",
       "      <td>7.8</td>\n",
       "      <td>0.500</td>\n",
       "      <td>0.17</td>\n",
       "      <td>0.082</td>\n",
       "      <td>21.0</td>\n",
       "      <td>102.0</td>\n",
       "      <td>3.39</td>\n",
       "      <td>0.48</td>\n",
       "      <td>9.5</td>\n",
       "      <td>2.91</td>\n",
       "      <td>-0.82600</td>\n",
       "      <td>11.10</td>\n",
       "      <td>7.831325</td>\n",
       "      <td>10.736842</td>\n",
       "      <td>4.857143</td>\n",
       "      <td>-4.642857</td>\n",
       "      <td>3.035714</td>\n",
       "      <td>2.073171</td>\n",
       "      <td>0.24000</td>\n",
       "    </tr>\n",
       "    <tr>\n",
       "      <th>350</th>\n",
       "      <td>10.7</td>\n",
       "      <td>0.670</td>\n",
       "      <td>0.22</td>\n",
       "      <td>0.107</td>\n",
       "      <td>17.0</td>\n",
       "      <td>34.0</td>\n",
       "      <td>3.28</td>\n",
       "      <td>0.98</td>\n",
       "      <td>9.9</td>\n",
       "      <td>2.30</td>\n",
       "      <td>-0.78040</td>\n",
       "      <td>12.60</td>\n",
       "      <td>10.695722</td>\n",
       "      <td>3.434343</td>\n",
       "      <td>2.000000</td>\n",
       "      <td>-7.900000</td>\n",
       "      <td>0.740741</td>\n",
       "      <td>2.056075</td>\n",
       "      <td>0.65660</td>\n",
       "    </tr>\n",
       "    <tr>\n",
       "      <th>682</th>\n",
       "      <td>8.5</td>\n",
       "      <td>0.460</td>\n",
       "      <td>0.31</td>\n",
       "      <td>0.078</td>\n",
       "      <td>32.0</td>\n",
       "      <td>58.0</td>\n",
       "      <td>3.33</td>\n",
       "      <td>0.54</td>\n",
       "      <td>9.8</td>\n",
       "      <td>2.79</td>\n",
       "      <td>-0.68800</td>\n",
       "      <td>12.05</td>\n",
       "      <td>8.517034</td>\n",
       "      <td>5.918367</td>\n",
       "      <td>1.812500</td>\n",
       "      <td>-7.987500</td>\n",
       "      <td>0.805556</td>\n",
       "      <td>3.974359</td>\n",
       "      <td>0.24840</td>\n",
       "    </tr>\n",
       "    <tr>\n",
       "      <th>1326</th>\n",
       "      <td>6.7</td>\n",
       "      <td>0.460</td>\n",
       "      <td>0.24</td>\n",
       "      <td>0.077</td>\n",
       "      <td>18.0</td>\n",
       "      <td>34.0</td>\n",
       "      <td>3.39</td>\n",
       "      <td>0.60</td>\n",
       "      <td>10.6</td>\n",
       "      <td>2.79</td>\n",
       "      <td>-0.75480</td>\n",
       "      <td>12.30</td>\n",
       "      <td>6.735022</td>\n",
       "      <td>3.207547</td>\n",
       "      <td>1.888889</td>\n",
       "      <td>-8.711111</td>\n",
       "      <td>1.111111</td>\n",
       "      <td>3.116883</td>\n",
       "      <td>0.27600</td>\n",
       "    </tr>\n",
       "    <tr>\n",
       "      <th>...</th>\n",
       "      <td>...</td>\n",
       "      <td>...</td>\n",
       "      <td>...</td>\n",
       "      <td>...</td>\n",
       "      <td>...</td>\n",
       "      <td>...</td>\n",
       "      <td>...</td>\n",
       "      <td>...</td>\n",
       "      <td>...</td>\n",
       "      <td>...</td>\n",
       "      <td>...</td>\n",
       "      <td>...</td>\n",
       "      <td>...</td>\n",
       "      <td>...</td>\n",
       "      <td>...</td>\n",
       "      <td>...</td>\n",
       "      <td>...</td>\n",
       "      <td>...</td>\n",
       "      <td>...</td>\n",
       "    </tr>\n",
       "    <tr>\n",
       "      <th>1130</th>\n",
       "      <td>9.1</td>\n",
       "      <td>0.600</td>\n",
       "      <td>0.00</td>\n",
       "      <td>0.058</td>\n",
       "      <td>5.0</td>\n",
       "      <td>10.0</td>\n",
       "      <td>3.18</td>\n",
       "      <td>0.63</td>\n",
       "      <td>10.4</td>\n",
       "      <td>2.55</td>\n",
       "      <td>-0.99770</td>\n",
       "      <td>12.30</td>\n",
       "      <td>9.120978</td>\n",
       "      <td>0.961538</td>\n",
       "      <td>2.000000</td>\n",
       "      <td>-8.400000</td>\n",
       "      <td>1.052632</td>\n",
       "      <td>0.000000</td>\n",
       "      <td>0.37800</td>\n",
       "    </tr>\n",
       "    <tr>\n",
       "      <th>1294</th>\n",
       "      <td>8.2</td>\n",
       "      <td>0.635</td>\n",
       "      <td>0.10</td>\n",
       "      <td>0.073</td>\n",
       "      <td>25.0</td>\n",
       "      <td>60.0</td>\n",
       "      <td>3.29</td>\n",
       "      <td>0.75</td>\n",
       "      <td>10.9</td>\n",
       "      <td>2.54</td>\n",
       "      <td>-0.89638</td>\n",
       "      <td>13.00</td>\n",
       "      <td>8.229792</td>\n",
       "      <td>5.504587</td>\n",
       "      <td>2.400000</td>\n",
       "      <td>-8.500000</td>\n",
       "      <td>1.142857</td>\n",
       "      <td>1.369863</td>\n",
       "      <td>0.47625</td>\n",
       "    </tr>\n",
       "    <tr>\n",
       "      <th>860</th>\n",
       "      <td>7.2</td>\n",
       "      <td>0.620</td>\n",
       "      <td>0.06</td>\n",
       "      <td>0.077</td>\n",
       "      <td>15.0</td>\n",
       "      <td>85.0</td>\n",
       "      <td>3.51</td>\n",
       "      <td>0.54</td>\n",
       "      <td>9.5</td>\n",
       "      <td>2.97</td>\n",
       "      <td>-0.93746</td>\n",
       "      <td>12.20</td>\n",
       "      <td>7.218335</td>\n",
       "      <td>8.947368</td>\n",
       "      <td>5.666667</td>\n",
       "      <td>-3.833333</td>\n",
       "      <td>2.098765</td>\n",
       "      <td>0.779221</td>\n",
       "      <td>0.33480</td>\n",
       "    </tr>\n",
       "    <tr>\n",
       "      <th>1459</th>\n",
       "      <td>7.9</td>\n",
       "      <td>0.200</td>\n",
       "      <td>0.35</td>\n",
       "      <td>0.054</td>\n",
       "      <td>7.0</td>\n",
       "      <td>15.0</td>\n",
       "      <td>3.32</td>\n",
       "      <td>0.80</td>\n",
       "      <td>11.9</td>\n",
       "      <td>2.52</td>\n",
       "      <td>-0.64458</td>\n",
       "      <td>13.60</td>\n",
       "      <td>7.943051</td>\n",
       "      <td>1.260504</td>\n",
       "      <td>2.142857</td>\n",
       "      <td>-9.757143</td>\n",
       "      <td>1.260504</td>\n",
       "      <td>6.481481</td>\n",
       "      <td>0.16000</td>\n",
       "    </tr>\n",
       "    <tr>\n",
       "      <th>1126</th>\n",
       "      <td>5.8</td>\n",
       "      <td>0.290</td>\n",
       "      <td>0.26</td>\n",
       "      <td>0.063</td>\n",
       "      <td>3.0</td>\n",
       "      <td>11.0</td>\n",
       "      <td>3.39</td>\n",
       "      <td>0.54</td>\n",
       "      <td>13.5</td>\n",
       "      <td>2.85</td>\n",
       "      <td>-0.73150</td>\n",
       "      <td>15.20</td>\n",
       "      <td>5.849723</td>\n",
       "      <td>0.814815</td>\n",
       "      <td>3.666667</td>\n",
       "      <td>-9.833333</td>\n",
       "      <td>2.156863</td>\n",
       "      <td>4.126984</td>\n",
       "      <td>0.15660</td>\n",
       "    </tr>\n",
       "  </tbody>\n",
       "</table>\n",
       "<p>1599 rows × 19 columns</p>\n",
       "</div>"
      ],
      "text/plain": [
       "      fixed acidity  volatile acidity  citric acid  chlorides  \\\n",
       "803             7.7             0.560         0.08      0.114   \n",
       "124             7.8             0.500         0.17      0.082   \n",
       "350            10.7             0.670         0.22      0.107   \n",
       "682             8.5             0.460         0.31      0.078   \n",
       "1326            6.7             0.460         0.24      0.077   \n",
       "...             ...               ...          ...        ...   \n",
       "1130            9.1             0.600         0.00      0.058   \n",
       "1294            8.2             0.635         0.10      0.073   \n",
       "860             7.2             0.620         0.06      0.077   \n",
       "1459            7.9             0.200         0.35      0.054   \n",
       "1126            5.8             0.290         0.26      0.063   \n",
       "\n",
       "      free sulfur dioxide  total sulfur dioxide    pH  sulphates  alcohol  \\\n",
       "803                  14.0                  46.0  3.24       0.66      9.6   \n",
       "124                  21.0                 102.0  3.39       0.48      9.5   \n",
       "350                  17.0                  34.0  3.28       0.98      9.9   \n",
       "682                  32.0                  58.0  3.33       0.54      9.8   \n",
       "1326                 18.0                  34.0  3.39       0.60     10.6   \n",
       "...                   ...                   ...   ...        ...      ...   \n",
       "1130                  5.0                  10.0  3.18       0.63     10.4   \n",
       "1294                 25.0                  60.0  3.29       0.75     10.9   \n",
       "860                  15.0                  85.0  3.51       0.54      9.5   \n",
       "1459                  7.0                  15.0  3.32       0.80     11.9   \n",
       "1126                  3.0                  11.0  3.39       0.54     13.5   \n",
       "\n",
       "      pH - sulphates  citric acid - density  alcohol + residual sugar  \\\n",
       "803             2.58               -0.91710                     12.10   \n",
       "124             2.91               -0.82600                     11.10   \n",
       "350             2.30               -0.78040                     12.60   \n",
       "682             2.79               -0.68800                     12.05   \n",
       "1326            2.79               -0.75480                     12.30   \n",
       "...              ...                    ...                       ...   \n",
       "1130            2.55               -0.99770                     12.30   \n",
       "1294            2.54               -0.89638                     13.00   \n",
       "860             2.97               -0.93746                     12.20   \n",
       "1459            2.52               -0.64458                     13.60   \n",
       "1126            2.85               -0.73150                     15.20   \n",
       "\n",
       "      fixed acidity / density  total sulfur dioxide / alcohol      test  \\\n",
       "803                  7.722395                        4.791667  3.285714   \n",
       "124                  7.831325                       10.736842  4.857143   \n",
       "350                 10.695722                        3.434343  2.000000   \n",
       "682                  8.517034                        5.918367  1.812500   \n",
       "1326                 6.735022                        3.207547  1.888889   \n",
       "...                       ...                             ...       ...   \n",
       "1130                 9.120978                        0.961538  2.000000   \n",
       "1294                 8.229792                        5.504587  2.400000   \n",
       "860                  7.218335                        8.947368  5.666667   \n",
       "1459                 7.943051                        1.260504  2.142857   \n",
       "1126                 5.849723                        0.814815  3.666667   \n",
       "\n",
       "      test - alcohol  test / residual sugar  citric acid / chlorides  \\\n",
       "803        -6.314286               1.314286                 0.701754   \n",
       "124        -4.642857               3.035714                 2.073171   \n",
       "350        -7.900000               0.740741                 2.056075   \n",
       "682        -7.987500               0.805556                 3.974359   \n",
       "1326       -8.711111               1.111111                 3.116883   \n",
       "...              ...                    ...                      ...   \n",
       "1130       -8.400000               1.052632                 0.000000   \n",
       "1294       -8.500000               1.142857                 1.369863   \n",
       "860        -3.833333               2.098765                 0.779221   \n",
       "1459       -9.757143               1.260504                 6.481481   \n",
       "1126       -9.833333               2.156863                 4.126984   \n",
       "\n",
       "      volatile acidity * sulphates  \n",
       "803                        0.36960  \n",
       "124                        0.24000  \n",
       "350                        0.65660  \n",
       "682                        0.24840  \n",
       "1326                       0.27600  \n",
       "...                            ...  \n",
       "1130                       0.37800  \n",
       "1294                       0.47625  \n",
       "860                        0.33480  \n",
       "1459                       0.16000  \n",
       "1126                       0.15660  \n",
       "\n",
       "[1599 rows x 19 columns]"
      ]
     },
     "execution_count": 8,
     "metadata": {},
     "output_type": "execute_result"
    }
   ],
   "source": [
    "x_train = df.drop([\"quality\", \"residual sugar\",\"density\"], axis = 1)\n",
    "quality_label = df[\"quality\"].copy()\n",
    "x_train"
   ]
  },
  {
   "cell_type": "code",
   "execution_count": 9,
   "id": "fc0b64b0",
   "metadata": {},
   "outputs": [
    {
     "data": {
      "text/plain": [
       "803     6\n",
       "124     5\n",
       "350     6\n",
       "682     5\n",
       "1326    6\n",
       "       ..\n",
       "1130    6\n",
       "1294    6\n",
       "860     5\n",
       "1459    7\n",
       "1126    6\n",
       "Name: quality, Length: 1599, dtype: int64"
      ]
     },
     "execution_count": 9,
     "metadata": {},
     "output_type": "execute_result"
    }
   ],
   "source": [
    "quality_label"
   ]
  },
  {
   "cell_type": "markdown",
   "id": "949b26c8",
   "metadata": {},
   "source": [
    "## 스케일러"
   ]
  },
  {
   "cell_type": "code",
   "execution_count": 10,
   "id": "f4e969bc",
   "metadata": {},
   "outputs": [],
   "source": [
    "from sklearn.preprocessing import StandardScaler\n",
    "from sklearn.pipeline import Pipeline\n",
    "from sklearn.impute import SimpleImputer\n",
    "\n",
    "num_pipeline = Pipeline([\n",
    "    ('std_scaler', StandardScaler()),\n",
    "    ('imputer', SimpleImputer(strategy = \"median\"))\n",
    "])\n",
    "\n",
    "x_train = num_pipeline.fit_transform(x_train)"
   ]
  },
  {
   "cell_type": "code",
   "execution_count": 11,
   "id": "59cb88e1",
   "metadata": {},
   "outputs": [
    {
     "data": {
      "text/plain": [
       "<AxesSubplot:xlabel='fixed acidity', ylabel='density'>"
      ]
     },
     "execution_count": 11,
     "metadata": {},
     "output_type": "execute_result"
    },
    {
     "data": {
      "image/png": "[encoded data removed]",
      "text/plain": [
       "<Figure size 432x288 with 1 Axes>"
      ]
     },
     "metadata": {
      "needs_background": "light"
     },
     "output_type": "display_data"
    }
   ],
   "source": [
    "wine = df.copy()\n",
    "wine.plot(kind=\"scatter\", x = \"fixed acidity\", y = \"density\", alpha = 0.2)"
   ]
  },
  {
   "cell_type": "code",
   "execution_count": 12,
   "id": "484fb500",
   "metadata": {},
   "outputs": [
    {
     "data": {
      "text/plain": [
       "array([6, 5, 6, ..., 5, 7, 6], dtype=int64)"
      ]
     },
     "execution_count": 12,
     "metadata": {},
     "output_type": "execute_result"
    }
   ],
   "source": [
    "quality_label_train = quality_label.to_numpy()\n",
    "quality_label_train"
   ]
  },
  {
   "cell_type": "markdown",
   "id": "abd87aad",
   "metadata": {},
   "source": [
    "## AdaBoost"
   ]
  },
  {
   "cell_type": "code",
   "execution_count": 13,
   "id": "1e053367",
   "metadata": {},
   "outputs": [
    {
     "data": {
      "text/plain": [
       "AdaBoostRegressor(base_estimator=DecisionTreeRegressor(random_state=42),\n",
       "                  random_state=42)"
      ]
     },
     "execution_count": 13,
     "metadata": {},
     "output_type": "execute_result"
    }
   ],
   "source": [
    "from sklearn.ensemble import AdaBoostRegressor, ExtraTreesRegressor, GradientBoostingRegressor, VotingRegressor\n",
    "from sklearn.tree import DecisionTreeRegressor\n",
    "from sklearn.metrics import mean_squared_error\n",
    "\n",
    "ada_reg = AdaBoostRegressor(base_estimator = DecisionTreeRegressor(random_state = 42),\n",
    "                           random_state = 42)\n",
    "ada_reg.fit(x_train, quality_label)"
   ]
  },
  {
   "cell_type": "markdown",
   "id": "04e1d1c4",
   "metadata": {},
   "source": [
    "## CV10"
   ]
  },
  {
   "cell_type": "code",
   "execution_count": 14,
   "id": "1e4318e1",
   "metadata": {},
   "outputs": [],
   "source": [
    "def display_scores(scores):\n",
    "    print(\"Scores:\", scores)\n",
    "    print(\"Mean(평균오차):\", scores.mean())\n",
    "    print(\"Standard deviation(표준편차):\", scores.std())"
   ]
  },
  {
   "cell_type": "code",
   "execution_count": 15,
   "id": "1e3dfdbc",
   "metadata": {},
   "outputs": [
    {
     "name": "stdout",
     "output_type": "stream",
     "text": [
      "Scores: [0.59686682 0.62749502 0.65669628 0.59686682 0.60207973 0.65192024\n",
      " 0.5809475  0.59686682 0.55339859 0.57735027]\n",
      "Mean(평균오차): 0.6040488085785825\n",
      "Standard deviation(표준편차): 0.030957554621262234\n"
     ]
    }
   ],
   "source": [
    "from sklearn.model_selection import cross_val_score\n",
    "\n",
    "ada_scores = cross_val_score(ada_reg, x_train, quality_label,\n",
    "                                scoring=\"neg_mean_squared_error\", cv=10)\n",
    "ada_rmse_scores = np.sqrt(-ada_scores)\n",
    "display_scores(ada_rmse_scores)"
   ]
  },
  {
   "cell_type": "markdown",
   "id": "75c92560",
   "metadata": {},
   "source": [
    "## 조기종료 방식으로 하이퍼파라미터 조정"
   ]
  },
  {
   "cell_type": "markdown",
   "id": "ed32a5a1",
   "metadata": {},
   "source": [
    "#### n_estimators, max_depth"
   ]
  },
  {
   "cell_type": "code",
   "execution_count": 16,
   "id": "5b9aa720",
   "metadata": {},
   "outputs": [],
   "source": [
    "def cv10(model, x_train, y_train):\n",
    "    cv10_scores = cross_val_score(model,x_train,y_train, scoring=\"neg_mean_squared_error\", cv=10)\n",
    "    rmse_scores = np.sqrt(-cv10_scores)\n",
    "    return rmse_scores.mean()"
   ]
  },
  {
   "cell_type": "code",
   "execution_count": 17,
   "id": "4556972e",
   "metadata": {},
   "outputs": [
    {
     "name": "stdout",
     "output_type": "stream",
     "text": [
      "mean: 0.6577951070205612, n_estimators: 60, max_depth: 2\n",
      "mean: 0.6368904099244562, n_estimators: 60, max_depth: 3\n",
      "mean: 0.6325177961667403, n_estimators: 60, max_depth: 4\n",
      "mean: 0.6203834457932387, n_estimators: 60, max_depth: 5\n",
      "mean: 0.6022264677304296, n_estimators: 60, max_depth: 6\n",
      "mean: 0.5930804788948392, n_estimators: 60, max_depth: 7\n",
      "mean: 0.5854504179002766, n_estimators: 60, max_depth: 8\n",
      "mean: 0.5792308993269983, n_estimators: 60, max_depth: 9\n",
      "mean: 0.5730850022079619, n_estimators: 60, max_depth: 10\n",
      "mean: 0.5725959744911433, n_estimators: 60, max_depth: 11\n",
      "mean: 0.5627192171140734, n_estimators: 60, max_depth: 12\n",
      "n_estimators up! n_estimators : 61\n",
      "mean: 0.5621872706442724, n_estimators: 61, max_depth: 12\n",
      "n_estimators up! n_estimators : 62\n",
      "n_estimators up! n_estimators : 63\n",
      "mean: 0.5607320388409871, n_estimators: 63, max_depth: 12\n",
      "n_estimators up! n_estimators : 64\n",
      "n_estimators up! n_estimators : 65\n",
      "n_estimators up! n_estimators : 66\n",
      "n_estimators up! n_estimators : 67\n",
      "n_estimators up! n_estimators : 68\n",
      "n_estimators up! n_estimators : 69\n",
      "n_estimators up! n_estimators : 70\n",
      "n_estimators up! n_estimators : 71\n",
      "n_estimators up! n_estimators : 72\n",
      "n_estimators up! n_estimators : 73\n",
      "n_estimators up! n_estimators : 74\n",
      "max_depth : 12, n_estimators : 63\n"
     ]
    }
   ],
   "source": [
    "basic_max_depth = 2\n",
    "\n",
    "ada1_reg = AdaBoostRegressor(base_estimator = DecisionTreeRegressor(random_state=42,\n",
    "                                                                    max_depth=basic_max_depth),\n",
    "                           random_state = 42)\n",
    "\n",
    "min_val_error = 20000\n",
    "error_ada_n_estimators = 0\n",
    "error_ada_max_depth = 0\n",
    "best_ada_n_estimators = 0\n",
    "best_ada_max_depth = 0\n",
    "for n_estimators in range(60,1000,1):\n",
    "    for basic_max_depth in range(2,50,1):\n",
    "        ada1_reg = AdaBoostRegressor(base_estimator = DecisionTreeRegressor(random_state=42,\n",
    "                                                                    max_depth=basic_max_depth),\n",
    "                           random_state = 42)\n",
    "        ada1_reg.n_estimators = n_estimators\n",
    "        ada1_reg.fit(x_train, quality_label)\n",
    "        mean = cv10(ada1_reg,x_train, quality_label)\n",
    "        if mean < min_val_error:\n",
    "            min_val_error = mean\n",
    "            error_ada_max_depth = 0\n",
    "            error_ada_n_estimators = 0\n",
    "            print(f\"mean: {min_val_error}, n_estimators: {n_estimators}, max_depth: {basic_max_depth}\")\n",
    "            best_ada_n_estimators = n_estimators\n",
    "            best_ada_max_depth = basic_max_depth\n",
    "        else:\n",
    "            error_ada_max_depth += 1\n",
    "            if error_ada_max_depth > best_ada_max_depth:\n",
    "                break\n",
    "    error_ada_max_depth = 0\n",
    "    error_ada_n_estimators +=1\n",
    "    print(f\"n_estimators up! n_estimators : {n_estimators + 1}\")\n",
    "    if error_ada_n_estimators > 10:\n",
    "        print(f\"max_depth : {best_ada_max_depth}, n_estimators : {best_ada_n_estimators}\")\n",
    "        break"
   ]
  },
  {
   "cell_type": "markdown",
   "id": "fc00894c",
   "metadata": {},
   "source": [
    "63,12 -> 0.5607320388409871"
   ]
  },
  {
   "cell_type": "code",
   "execution_count": 18,
   "id": "e67a7e6d",
   "metadata": {},
   "outputs": [
    {
     "data": {
      "text/plain": [
       "63"
      ]
     },
     "execution_count": 18,
     "metadata": {},
     "output_type": "execute_result"
    }
   ],
   "source": [
    "best_ada_n_estimators"
   ]
  },
  {
   "cell_type": "code",
   "execution_count": 19,
   "id": "47b167cc",
   "metadata": {},
   "outputs": [
    {
     "data": {
      "text/plain": [
       "12"
      ]
     },
     "execution_count": 19,
     "metadata": {},
     "output_type": "execute_result"
    }
   ],
   "source": [
    "best_ada_max_depth"
   ]
  },
  {
   "cell_type": "markdown",
   "id": "aabe39db",
   "metadata": {},
   "source": [
    "## 조정된 하이퍼파라미터로 fit"
   ]
  },
  {
   "cell_type": "code",
   "execution_count": 20,
   "id": "a8e802fd",
   "metadata": {},
   "outputs": [
    {
     "data": {
      "text/plain": [
       "AdaBoostRegressor(base_estimator=DecisionTreeRegressor(max_depth=12,\n",
       "                                                       random_state=42),\n",
       "                  n_estimators=63, random_state=42)"
      ]
     },
     "execution_count": 20,
     "metadata": {},
     "output_type": "execute_result"
    }
   ],
   "source": [
    "ada_best_reg = AdaBoostRegressor(base_estimator = DecisionTreeRegressor(random_state=42,\n",
    "                                                                    max_depth=best_ada_max_depth),\n",
    "                           random_state = 42, n_estimators = best_ada_n_estimators)\n",
    "ada_best_reg.fit(x_train, quality_label)"
   ]
  },
  {
   "cell_type": "code",
   "execution_count": 21,
   "id": "4898665e",
   "metadata": {},
   "outputs": [
    {
     "data": {
      "text/plain": [
       "0.5607320388409871"
      ]
     },
     "execution_count": 21,
     "metadata": {},
     "output_type": "execute_result"
    }
   ],
   "source": [
    "cv10(ada_best_reg, x_train, quality_label)"
   ]
  },
  {
   "cell_type": "markdown",
   "id": "5b84fa72",
   "metadata": {},
   "source": [
    "## ExtraTrees"
   ]
  },
  {
   "cell_type": "markdown",
   "id": "e465d09c",
   "metadata": {},
   "source": [
    "###### 조기종료(n_estimators, max_depth)"
   ]
  },
  {
   "cell_type": "code",
   "execution_count": 22,
   "id": "80d3bffb",
   "metadata": {},
   "outputs": [
    {
     "name": "stdout",
     "output_type": "stream",
     "text": [
      "cv: 0.6914077765723146, n_estimators: 50 , max_depth : 2\n",
      "cv: 0.6663839038472261, n_estimators: 50 , max_depth : 3\n",
      "cv: 0.6449601570317391, n_estimators: 50 , max_depth : 4\n",
      "cv: 0.6284585072303327, n_estimators: 50 , max_depth : 5\n",
      "cv: 0.6168339109185793, n_estimators: 50 , max_depth : 6\n",
      "cv: 0.607493980259794, n_estimators: 50 , max_depth : 7\n",
      "cv: 0.5922510358463162, n_estimators: 50 , max_depth : 8\n",
      "cv: 0.5820051052055482, n_estimators: 50 , max_depth : 9\n",
      "cv: 0.5730186681747467, n_estimators: 50 , max_depth : 10\n",
      "cv: 0.5622289196293646, n_estimators: 50 , max_depth : 11\n",
      "cv: 0.5615071513641632, n_estimators: 50 , max_depth : 12\n",
      "cv: 0.5527715846730099, n_estimators: 50 , max_depth : 13\n",
      "cv: 0.5502527533077444, n_estimators: 50 , max_depth : 14\n",
      "cv: 0.5466215147167567, n_estimators: 50 , max_depth : 15\n",
      "cv: 0.54660037737376, n_estimators: 50 , max_depth : 18\n",
      "cv: 0.5444019528983982, n_estimators: 50 , max_depth : 19\n",
      "cv: 0.5442797607156884, n_estimators: 50 , max_depth : 20\n",
      "cv: 0.5411372705295847, n_estimators: 50 , max_depth : 21\n",
      "cv: 0.5408816560675397, n_estimators: 50 , max_depth : 25\n",
      "cv: 0.5399851368930114, n_estimators: 50 , max_depth : 26\n",
      "n_estimators going up! n_estimators : 51\n",
      "n_estimators going up! n_estimators : 52\n",
      "cv: 0.5398629285775297, n_estimators: 52 , max_depth : 26\n",
      "n_estimators going up! n_estimators : 53\n",
      "cv: 0.5396996645337289, n_estimators: 53 , max_depth : 26\n",
      "n_estimators going up! n_estimators : 54\n",
      "n_estimators going up! n_estimators : 55\n",
      "n_estimators going up! n_estimators : 56\n",
      "n_estimators going up! n_estimators : 57\n",
      "n_estimators going up! n_estimators : 58\n",
      "n_estimators going up! n_estimators : 59\n",
      "n_estimators going up! n_estimators : 60\n",
      "n_estimators going up! n_estimators : 61\n",
      "n_estimators going up! n_estimators : 62\n",
      "n_estimators going up! n_estimators : 63\n",
      "n_estimators going up! n_estimators : 64\n",
      "best_ex_n_estimators : 53 , best_ex_max_depth : 26\n"
     ]
    }
   ],
   "source": [
    "ex_reg = ExtraTreesRegressor(random_state=42)\n",
    "\n",
    "min_val_error = 20000\n",
    "error_ex_depth = 0\n",
    "error_ex_n_estimators = 0\n",
    "best_ex_n_estimators = 0\n",
    "best_ex_max_depth = 0\n",
    "for n_estimators in range(50,1000,1):\n",
    "    for max_depth in range(2,100,1):\n",
    "        ex_reg.n_estimators = n_estimators\n",
    "        ex_reg.max_depth = max_depth\n",
    "        ex_reg.fit(x_train, quality_label)\n",
    "        mean = cv10(ex_reg,x_train, quality_label)\n",
    "        if mean < min_val_error:\n",
    "            min_val_error = mean\n",
    "            error_ex_depth = 0\n",
    "            error_ex_n_estimators = 0\n",
    "            print(f\"cv: {min_val_error}, n_estimators: {n_estimators} , max_depth : {max_depth}\")\n",
    "            best_ex_max_depth = max_depth\n",
    "            best_ex_n_estimators = n_estimators\n",
    "        else:\n",
    "            error_ex_depth += 1\n",
    "            if error_ex_depth > best_ex_max_depth:\n",
    "                break\n",
    "    error_ex_n_estimators += 1\n",
    "    error_ex_depth = 0\n",
    "    print(f\"n_estimators going up! n_estimators : {n_estimators + 1}\")\n",
    "    if error_ex_n_estimators > 10:\n",
    "        print(f\"best_ex_n_estimators : {best_ex_n_estimators} , best_ex_max_depth : {best_ex_max_depth}\")\n",
    "        break"
   ]
  },
  {
   "cell_type": "code",
   "execution_count": 23,
   "id": "1066ecf6",
   "metadata": {},
   "outputs": [
    {
     "data": {
      "text/plain": [
       "ExtraTreesRegressor(max_depth=26, n_estimators=53, random_state=42)"
      ]
     },
     "execution_count": 23,
     "metadata": {},
     "output_type": "execute_result"
    }
   ],
   "source": [
    "ex_best_reg = ExtraTreesRegressor(random_state=42, n_estimators = best_ex_n_estimators, max_depth = best_ex_max_depth)\n",
    "ex_best_reg.fit(x_train, quality_label)"
   ]
  },
  {
   "cell_type": "code",
   "execution_count": 24,
   "id": "941b7bdd",
   "metadata": {},
   "outputs": [
    {
     "data": {
      "text/plain": [
       "0.5396996645337289"
      ]
     },
     "execution_count": 24,
     "metadata": {},
     "output_type": "execute_result"
    }
   ],
   "source": [
    "cv10(ex_best_reg, x_train, quality_label)"
   ]
  },
  {
   "cell_type": "markdown",
   "id": "697aabca",
   "metadata": {},
   "source": [
    "## GBRT"
   ]
  },
  {
   "cell_type": "markdown",
   "id": "5ede9985",
   "metadata": {},
   "source": [
    "###### 조기종료 방식"
   ]
  },
  {
   "cell_type": "code",
   "execution_count": 26,
   "id": "d8095cb9",
   "metadata": {},
   "outputs": [
    {
     "name": "stdout",
     "output_type": "stream",
     "text": [
      "cv: 0.6002012868956867, n_estimators: 550 , max_depth : 2\n",
      "cv: 0.5785134964661907, n_estimators: 550 , max_depth : 3\n",
      "cv: 0.5674682660570869, n_estimators: 550 , max_depth : 4\n",
      "cv: 0.5612821948653217, n_estimators: 550 , max_depth : 6\n",
      "n_estimators going up! n_estimators : 560\n",
      "cv: 0.5612728025768553, n_estimators: 560 , max_depth : 6\n",
      "n_estimators going up! n_estimators : 570\n",
      "cv: 0.5612649906053342, n_estimators: 570 , max_depth : 6\n",
      "n_estimators going up! n_estimators : 580\n",
      "n_estimators going up! n_estimators : 590\n",
      "n_estimators going up! n_estimators : 600\n",
      "n_estimators going up! n_estimators : 610\n",
      "n_estimators going up! n_estimators : 620\n",
      "n_estimators going up! n_estimators : 630\n",
      "best_gbrt_n_estimators : 570 , best_gbrt_max_depth : 6\n"
     ]
    }
   ],
   "source": [
    "gbrt_reg = GradientBoostingRegressor(random_state=42)\n",
    "\n",
    "min_val_error = 20000\n",
    "error_gbrt_depth = 0\n",
    "error_gbrt_n_estimators = 0\n",
    "best_gbrt_n_estimators = 0\n",
    "best_gbrt_max_depth = 0\n",
    "for n_estimators in range(550,1000,10):\n",
    "    for max_depth in range(2,50,1):\n",
    "        gbrt_reg.n_estimators = n_estimators\n",
    "        gbrt_reg.max_depth = max_depth\n",
    "        gbrt_reg.fit(x_train, quality_label)\n",
    "        mean = cv10(gbrt_reg,x_train, quality_label)\n",
    "        if mean < min_val_error:\n",
    "            min_val_error = mean\n",
    "            error_gbrt_depth = 0\n",
    "            error_gbrt_n_estimators = 0\n",
    "            print(f\"cv: {min_val_error}, n_estimators: {n_estimators} , max_depth : {max_depth}\")\n",
    "            best_gbrt_max_depth = max_depth\n",
    "            best_gbrt_n_estimators = n_estimators\n",
    "        else:\n",
    "            error_gbrt_depth += 1\n",
    "            if error_gbrt_depth > best_gbrt_max_depth:\n",
    "                break\n",
    "    error_gbrt_n_estimators += 1\n",
    "    error_gbrt_depth = 0\n",
    "    print(f\"n_estimators going up! n_estimators : {n_estimators + 10}\")\n",
    "    if error_gbrt_n_estimators > 5:\n",
    "        print(f\"best_gbrt_n_estimators : {best_gbrt_n_estimators} , best_gbrt_max_depth : {best_gbrt_max_depth}\")\n",
    "        break"
   ]
  },
  {
   "cell_type": "code",
   "execution_count": 27,
   "id": "d9971566",
   "metadata": {},
   "outputs": [
    {
     "data": {
      "text/plain": [
       "GradientBoostingRegressor(max_depth=6, n_estimators=570, random_state=42)"
      ]
     },
     "execution_count": 27,
     "metadata": {},
     "output_type": "execute_result"
    }
   ],
   "source": [
    "gbrt_best_reg = GradientBoostingRegressor(n_estimators=best_gbrt_n_estimators, max_depth = best_gbrt_max_depth, random_state=42)\n",
    "gbrt_best_reg.fit(x_train, quality_label)"
   ]
  },
  {
   "cell_type": "code",
   "execution_count": 28,
   "id": "3030637b",
   "metadata": {},
   "outputs": [
    {
     "data": {
      "text/plain": [
       "0.5612649906053342"
      ]
     },
     "execution_count": 28,
     "metadata": {},
     "output_type": "execute_result"
    }
   ],
   "source": [
    "cv10(gbrt_best_reg, x_train, quality_label)"
   ]
  },
  {
   "cell_type": "markdown",
   "id": "9bfa1fb2",
   "metadata": {},
   "source": [
    "## Voting(Extra, GBRT, Ada)"
   ]
  },
  {
   "cell_type": "code",
   "execution_count": 29,
   "id": "54000d89",
   "metadata": {},
   "outputs": [
    {
     "data": {
      "text/plain": [
       "VotingRegressor(estimators=[('ex',\n",
       "                             ExtraTreesRegressor(max_depth=26, n_estimators=53,\n",
       "                                                 random_state=42)),\n",
       "                            ('gbrt',\n",
       "                             GradientBoostingRegressor(max_depth=6,\n",
       "                                                       n_estimators=570,\n",
       "                                                       random_state=42)),\n",
       "                            ('ada',\n",
       "                             AdaBoostRegressor(base_estimator=DecisionTreeRegressor(max_depth=12,\n",
       "                                                                                    random_state=42),\n",
       "                                               n_estimators=63,\n",
       "                                               random_state=42))])"
      ]
     },
     "execution_count": 29,
     "metadata": {},
     "output_type": "execute_result"
    }
   ],
   "source": [
    "vot_final_reg = VotingRegressor(estimators = \n",
    "                         [('ex', ex_best_reg),('gbrt', gbrt_best_reg), ('ada', ada_best_reg)])\n",
    "vot_final_reg.fit(x_train, quality_label)"
   ]
  },
  {
   "cell_type": "markdown",
   "id": "9b5a195a",
   "metadata": {},
   "source": [
    "## display_scores"
   ]
  },
  {
   "cell_type": "code",
   "execution_count": 30,
   "id": "750d41ec",
   "metadata": {},
   "outputs": [
    {
     "name": "stdout",
     "output_type": "stream",
     "text": [
      "Scores: [0.53463359 0.50825033 0.56600296 0.52562499 0.54878722 0.58878291\n",
      " 0.53809658 0.56700922 0.50182275 0.50670993]\n",
      "Mean(평균오차): 0.5385720479810194\n",
      "Standard deviation(표준편차): 0.0276678212532427\n"
     ]
    }
   ],
   "source": [
    "from sklearn.model_selection import cross_val_score\n",
    "\n",
    "vot_scores = cross_val_score(vot_final_reg, x_train, quality_label,\n",
    "                                scoring=\"neg_mean_squared_error\", cv=10)\n",
    "vot_rmse_scores = np.sqrt(-vot_scores)\n",
    "display_scores(vot_rmse_scores)"
   ]
  },
  {
   "cell_type": "markdown",
   "id": "65dee1b5",
   "metadata": {},
   "source": [
    "## Mean : 0.5385720479810194"
   ]
  },
  {
   "cell_type": "code",
   "execution_count": null,
   "id": "9e2e32da",
   "metadata": {},
   "outputs": [],
   "source": []
  }
 ],
 "metadata": {
  "kernelspec": {
   "display_name": "Python 3 (ipykernel)",
   "language": "python",
   "name": "python3"
  },
  "language_info": {
   "codemirror_mode": {
    "name": "ipython",
    "version": 3
   },
   "file_extension": ".py",
   "mimetype": "text/x-python",
   "name": "python",
   "nbconvert_exporter": "python",
   "pygments_lexer": "ipython3",
   "version": "3.9.7"
  }
 },
 "nbformat": 4,
 "nbformat_minor": 5
}
